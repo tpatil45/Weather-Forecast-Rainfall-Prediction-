{
  "nbformat": 4,
  "nbformat_minor": 0,
  "metadata": {
    "kernelspec": {
      "display_name": "Python 3",
      "language": "python",
      "name": "python3"
    },
    "language_info": {
      "codemirror_mode": {
        "name": "ipython",
        "version": 3
      },
      "file_extension": ".py",
      "mimetype": "text/x-python",
      "name": "python",
      "nbconvert_exporter": "python",
      "pygments_lexer": "ipython3",
      "version": "3.7.1"
    },
    "colab": {
      "name": "HW2_Decision_Tree (1).ipynb",
      "provenance": [],
      "toc_visible": true,
      "machine_shape": "hm"
    }
  },
  "cells": [
    {
      "cell_type": "markdown",
      "metadata": {
        "id": "WheCOYC5jynU",
        "colab_type": "text"
      },
      "source": [
        "#### Importing all the necessary libraries"
      ]
    },
    {
      "cell_type": "code",
      "metadata": {
        "id": "iWgsjSR7jynd",
        "colab_type": "code",
        "colab": {}
      },
      "source": [
        "import numpy  as np\n",
        "import pandas as pd\n",
        "import matplotlib.pyplot as plt\n",
        "from sklearn.preprocessing import RobustScaler\n",
        "from sklearn.preprocessing import StandardScaler\n",
        "from sklearn import tree\n",
        "from sklearn.model_selection import train_test_split, GridSearchCV\n",
        "from sklearn import metrics\n",
        "from sklearn.metrics import confusion_matrix\n",
        "from sklearn.metrics import classification_report\n",
        "from sklearn.metrics import roc_curve\n",
        "from sklearn.metrics import roc_auc_score\n",
        "from sklearn.cluster import KMeans\n",
        "from scipy.spatial.distance import cdist\n",
        "from scipy.spatial import distance_matrix\n",
        "import math\n",
        "import seaborn as sns\n",
        "sns.set(style=\"darkgrid\")\n",
        "import warnings\n",
        "warnings.filterwarnings('ignore')"
      ],
      "execution_count": 0,
      "outputs": []
    },
    {
      "cell_type": "markdown",
      "metadata": {
        "id": "4UoEcxUbjynv",
        "colab_type": "text"
      },
      "source": [
        "#### Importing train and test data"
      ]
    },
    {
      "cell_type": "code",
      "metadata": {
        "id": "KY3d5K4Jjyn0",
        "colab_type": "code",
        "colab": {}
      },
      "source": [
        "df_train = pd.read_csv(\"Weather Forecast Training.csv\")\n",
        "df_test = pd.read_csv(\"Weather Forecast Testing.csv\")"
      ],
      "execution_count": 0,
      "outputs": []
    },
    {
      "cell_type": "markdown",
      "metadata": {
        "id": "T7_r8sFJjyoG",
        "colab_type": "text"
      },
      "source": [
        "#### Getting familiar with the data\n",
        "\n",
        "#### Training dataset is a mixture of numerical and categorical variables.\n",
        "#### It has 16 evaluation parameters with 51987 observations."
      ]
    },
    {
      "cell_type": "code",
      "metadata": {
        "id": "qH5q2xRHjyoK",
        "colab_type": "code",
        "colab": {
          "base_uri": "https://localhost:8080/",
          "height": 391
        },
        "outputId": "d0ec7edb-fd47-48b6-9c7b-f82ee3acd6fe"
      },
      "source": [
        "#print(df_train.head(10))\n",
        "print(df_train.columns)\n",
        "print(df_train.shape)\n",
        "print(df_train.dtypes)"
      ],
      "execution_count": 97,
      "outputs": [
        {
          "output_type": "stream",
          "text": [
            "Index(['Location', 'MinTemp', 'MaxTemp', 'Rainfall', 'Evaporation', 'Sunshine',\n",
            "       'WindGustDir', 'WindGustSpeed', 'WindDir', 'WindSpeed', 'Humidity',\n",
            "       'Pressure', 'Cloud', 'Temp', 'RainToday', 'RainTomorrow'],\n",
            "      dtype='object')\n",
            "(51978, 16)\n",
            "Location          object\n",
            "MinTemp          float64\n",
            "MaxTemp          float64\n",
            "Rainfall         float64\n",
            "Evaporation      float64\n",
            "Sunshine         float64\n",
            "WindGustDir       object\n",
            "WindGustSpeed    float64\n",
            "WindDir           object\n",
            "WindSpeed        float64\n",
            "Humidity         float64\n",
            "Pressure         float64\n",
            "Cloud            float64\n",
            "Temp             float64\n",
            "RainToday         object\n",
            "RainTomorrow      object\n",
            "dtype: object\n"
          ],
          "name": "stdout"
        }
      ]
    },
    {
      "cell_type": "markdown",
      "metadata": {
        "id": "dUYUe97sjyod",
        "colab_type": "text"
      },
      "source": [
        "#### Statistically investigating the data\n",
        "\n",
        "#### Here we observe that training dataset has 'RainTomorrow' variable, which is missing in test data, ideally correct. Also, Test data has an additional attribute 'ID' - primary key. \n",
        "\n",
        "#### Most of the variables in both the dataset are approximately normally skewed.\n",
        "\n",
        "#### Important point to notice here is that all the variables have diffrent standard deviation. The point acts as a base for the requirement of scaling the data before using clustering algorithms."
      ]
    },
    {
      "cell_type": "code",
      "metadata": {
        "id": "ZR2gtkbEjyoj",
        "colab_type": "code",
        "colab": {
          "base_uri": "https://localhost:8080/",
          "height": 390
        },
        "outputId": "bc3169ef-d785-43e5-b707-cb45f244cf03"
      },
      "source": [
        "df_train.describe().transpose()"
      ],
      "execution_count": 98,
      "outputs": [
        {
          "output_type": "execute_result",
          "data": {
            "text/html": [
              "<div>\n",
              "<style scoped>\n",
              "    .dataframe tbody tr th:only-of-type {\n",
              "        vertical-align: middle;\n",
              "    }\n",
              "\n",
              "    .dataframe tbody tr th {\n",
              "        vertical-align: top;\n",
              "    }\n",
              "\n",
              "    .dataframe thead th {\n",
              "        text-align: right;\n",
              "    }\n",
              "</style>\n",
              "<table border=\"1\" class=\"dataframe\">\n",
              "  <thead>\n",
              "    <tr style=\"text-align: right;\">\n",
              "      <th></th>\n",
              "      <th>count</th>\n",
              "      <th>mean</th>\n",
              "      <th>std</th>\n",
              "      <th>min</th>\n",
              "      <th>25%</th>\n",
              "      <th>50%</th>\n",
              "      <th>75%</th>\n",
              "      <th>max</th>\n",
              "    </tr>\n",
              "  </thead>\n",
              "  <tbody>\n",
              "    <tr>\n",
              "      <th>MinTemp</th>\n",
              "      <td>51694.0</td>\n",
              "      <td>12.549174</td>\n",
              "      <td>6.376746</td>\n",
              "      <td>-8.0</td>\n",
              "      <td>7.9</td>\n",
              "      <td>12.3</td>\n",
              "      <td>17.2</td>\n",
              "      <td>31.4</td>\n",
              "    </tr>\n",
              "    <tr>\n",
              "      <th>MaxTemp</th>\n",
              "      <td>51849.0</td>\n",
              "      <td>22.512698</td>\n",
              "      <td>7.113064</td>\n",
              "      <td>-4.1</td>\n",
              "      <td>17.2</td>\n",
              "      <td>21.8</td>\n",
              "      <td>27.5</td>\n",
              "      <td>47.0</td>\n",
              "    </tr>\n",
              "    <tr>\n",
              "      <th>Rainfall</th>\n",
              "      <td>51231.0</td>\n",
              "      <td>3.639494</td>\n",
              "      <td>11.009628</td>\n",
              "      <td>0.0</td>\n",
              "      <td>0.0</td>\n",
              "      <td>0.0</td>\n",
              "      <td>2.2</td>\n",
              "      <td>371.0</td>\n",
              "    </tr>\n",
              "    <tr>\n",
              "      <th>Evaporation</th>\n",
              "      <td>29425.0</td>\n",
              "      <td>5.177570</td>\n",
              "      <td>4.017662</td>\n",
              "      <td>0.0</td>\n",
              "      <td>2.4</td>\n",
              "      <td>4.4</td>\n",
              "      <td>7.0</td>\n",
              "      <td>77.3</td>\n",
              "    </tr>\n",
              "    <tr>\n",
              "      <th>Sunshine</th>\n",
              "      <td>27103.0</td>\n",
              "      <td>6.530580</td>\n",
              "      <td>3.946561</td>\n",
              "      <td>0.0</td>\n",
              "      <td>3.2</td>\n",
              "      <td>6.9</td>\n",
              "      <td>9.9</td>\n",
              "      <td>14.5</td>\n",
              "    </tr>\n",
              "    <tr>\n",
              "      <th>WindGustSpeed</th>\n",
              "      <td>48407.0</td>\n",
              "      <td>42.003016</td>\n",
              "      <td>14.627024</td>\n",
              "      <td>7.0</td>\n",
              "      <td>31.0</td>\n",
              "      <td>39.0</td>\n",
              "      <td>50.0</td>\n",
              "      <td>135.0</td>\n",
              "    </tr>\n",
              "    <tr>\n",
              "      <th>WindSpeed</th>\n",
              "      <td>50954.0</td>\n",
              "      <td>19.092299</td>\n",
              "      <td>9.157505</td>\n",
              "      <td>0.0</td>\n",
              "      <td>13.0</td>\n",
              "      <td>19.0</td>\n",
              "      <td>24.0</td>\n",
              "      <td>83.0</td>\n",
              "    </tr>\n",
              "    <tr>\n",
              "      <th>Humidity</th>\n",
              "      <td>50549.0</td>\n",
              "      <td>57.432214</td>\n",
              "      <td>21.833045</td>\n",
              "      <td>1.0</td>\n",
              "      <td>42.0</td>\n",
              "      <td>58.0</td>\n",
              "      <td>73.0</td>\n",
              "      <td>100.0</td>\n",
              "    </tr>\n",
              "    <tr>\n",
              "      <th>Pressure</th>\n",
              "      <td>46912.0</td>\n",
              "      <td>1014.273338</td>\n",
              "      <td>7.278733</td>\n",
              "      <td>977.1</td>\n",
              "      <td>1009.3</td>\n",
              "      <td>1014.2</td>\n",
              "      <td>1019.2</td>\n",
              "      <td>1037.8</td>\n",
              "    </tr>\n",
              "    <tr>\n",
              "      <th>Cloud</th>\n",
              "      <td>31848.0</td>\n",
              "      <td>5.175647</td>\n",
              "      <td>2.632166</td>\n",
              "      <td>0.0</td>\n",
              "      <td>3.0</td>\n",
              "      <td>6.0</td>\n",
              "      <td>7.0</td>\n",
              "      <td>8.0</td>\n",
              "    </tr>\n",
              "    <tr>\n",
              "      <th>Temp</th>\n",
              "      <td>50915.0</td>\n",
              "      <td>20.845623</td>\n",
              "      <td>6.938471</td>\n",
              "      <td>-4.4</td>\n",
              "      <td>15.7</td>\n",
              "      <td>20.2</td>\n",
              "      <td>25.6</td>\n",
              "      <td>46.1</td>\n",
              "    </tr>\n",
              "  </tbody>\n",
              "</table>\n",
              "</div>"
            ],
            "text/plain": [
              "                 count         mean        std  ...     50%     75%     max\n",
              "MinTemp        51694.0    12.549174   6.376746  ...    12.3    17.2    31.4\n",
              "MaxTemp        51849.0    22.512698   7.113064  ...    21.8    27.5    47.0\n",
              "Rainfall       51231.0     3.639494  11.009628  ...     0.0     2.2   371.0\n",
              "Evaporation    29425.0     5.177570   4.017662  ...     4.4     7.0    77.3\n",
              "Sunshine       27103.0     6.530580   3.946561  ...     6.9     9.9    14.5\n",
              "WindGustSpeed  48407.0    42.003016  14.627024  ...    39.0    50.0   135.0\n",
              "WindSpeed      50954.0    19.092299   9.157505  ...    19.0    24.0    83.0\n",
              "Humidity       50549.0    57.432214  21.833045  ...    58.0    73.0   100.0\n",
              "Pressure       46912.0  1014.273338   7.278733  ...  1014.2  1019.2  1037.8\n",
              "Cloud          31848.0     5.175647   2.632166  ...     6.0     7.0     8.0\n",
              "Temp           50915.0    20.845623   6.938471  ...    20.2    25.6    46.1\n",
              "\n",
              "[11 rows x 8 columns]"
            ]
          },
          "metadata": {
            "tags": []
          },
          "execution_count": 98
        }
      ]
    },
    {
      "cell_type": "code",
      "metadata": {
        "id": "ikp4Slvsjyox",
        "colab_type": "code",
        "colab": {
          "base_uri": "https://localhost:8080/",
          "height": 421
        },
        "outputId": "360e860c-abaf-4759-83bf-20f8178af2e4"
      },
      "source": [
        "df_test.describe().transpose()"
      ],
      "execution_count": 99,
      "outputs": [
        {
          "output_type": "execute_result",
          "data": {
            "text/html": [
              "<div>\n",
              "<style scoped>\n",
              "    .dataframe tbody tr th:only-of-type {\n",
              "        vertical-align: middle;\n",
              "    }\n",
              "\n",
              "    .dataframe tbody tr th {\n",
              "        vertical-align: top;\n",
              "    }\n",
              "\n",
              "    .dataframe thead th {\n",
              "        text-align: right;\n",
              "    }\n",
              "</style>\n",
              "<table border=\"1\" class=\"dataframe\">\n",
              "  <thead>\n",
              "    <tr style=\"text-align: right;\">\n",
              "      <th></th>\n",
              "      <th>count</th>\n",
              "      <th>mean</th>\n",
              "      <th>std</th>\n",
              "      <th>min</th>\n",
              "      <th>25%</th>\n",
              "      <th>50%</th>\n",
              "      <th>75%</th>\n",
              "      <th>max</th>\n",
              "    </tr>\n",
              "  </thead>\n",
              "  <tbody>\n",
              "    <tr>\n",
              "      <th>ID</th>\n",
              "      <td>12994.0</td>\n",
              "      <td>6497.500000</td>\n",
              "      <td>3751.189034</td>\n",
              "      <td>1.0</td>\n",
              "      <td>3249.25</td>\n",
              "      <td>6497.5</td>\n",
              "      <td>9745.75</td>\n",
              "      <td>12994.0</td>\n",
              "    </tr>\n",
              "    <tr>\n",
              "      <th>MinTemp</th>\n",
              "      <td>12947.0</td>\n",
              "      <td>12.497969</td>\n",
              "      <td>6.388597</td>\n",
              "      <td>-6.5</td>\n",
              "      <td>7.90</td>\n",
              "      <td>12.1</td>\n",
              "      <td>17.10</td>\n",
              "      <td>29.7</td>\n",
              "    </tr>\n",
              "    <tr>\n",
              "      <th>MaxTemp</th>\n",
              "      <td>12976.0</td>\n",
              "      <td>22.491685</td>\n",
              "      <td>7.099027</td>\n",
              "      <td>-3.7</td>\n",
              "      <td>17.30</td>\n",
              "      <td>21.7</td>\n",
              "      <td>27.40</td>\n",
              "      <td>46.9</td>\n",
              "    </tr>\n",
              "    <tr>\n",
              "      <th>Rainfall</th>\n",
              "      <td>12833.0</td>\n",
              "      <td>3.650495</td>\n",
              "      <td>11.031150</td>\n",
              "      <td>0.0</td>\n",
              "      <td>0.00</td>\n",
              "      <td>0.0</td>\n",
              "      <td>2.20</td>\n",
              "      <td>367.6</td>\n",
              "    </tr>\n",
              "    <tr>\n",
              "      <th>Evaporation</th>\n",
              "      <td>7478.0</td>\n",
              "      <td>5.148930</td>\n",
              "      <td>4.021726</td>\n",
              "      <td>0.0</td>\n",
              "      <td>2.40</td>\n",
              "      <td>4.4</td>\n",
              "      <td>7.00</td>\n",
              "      <td>86.2</td>\n",
              "    </tr>\n",
              "    <tr>\n",
              "      <th>Sunshine</th>\n",
              "      <td>6900.0</td>\n",
              "      <td>6.577928</td>\n",
              "      <td>3.933243</td>\n",
              "      <td>0.0</td>\n",
              "      <td>3.20</td>\n",
              "      <td>7.0</td>\n",
              "      <td>9.90</td>\n",
              "      <td>14.0</td>\n",
              "    </tr>\n",
              "    <tr>\n",
              "      <th>WindGustSpeed</th>\n",
              "      <td>12074.0</td>\n",
              "      <td>42.016730</td>\n",
              "      <td>14.741531</td>\n",
              "      <td>7.0</td>\n",
              "      <td>31.00</td>\n",
              "      <td>39.0</td>\n",
              "      <td>50.00</td>\n",
              "      <td>135.0</td>\n",
              "    </tr>\n",
              "    <tr>\n",
              "      <th>WindSpeed</th>\n",
              "      <td>12733.0</td>\n",
              "      <td>19.078379</td>\n",
              "      <td>9.200108</td>\n",
              "      <td>0.0</td>\n",
              "      <td>13.00</td>\n",
              "      <td>19.0</td>\n",
              "      <td>24.00</td>\n",
              "      <td>87.0</td>\n",
              "    </tr>\n",
              "    <tr>\n",
              "      <th>Humidity</th>\n",
              "      <td>12645.0</td>\n",
              "      <td>57.240490</td>\n",
              "      <td>21.854321</td>\n",
              "      <td>1.0</td>\n",
              "      <td>42.00</td>\n",
              "      <td>58.0</td>\n",
              "      <td>73.00</td>\n",
              "      <td>100.0</td>\n",
              "    </tr>\n",
              "    <tr>\n",
              "      <th>Pressure</th>\n",
              "      <td>11701.0</td>\n",
              "      <td>1014.200752</td>\n",
              "      <td>7.296169</td>\n",
              "      <td>980.2</td>\n",
              "      <td>1009.30</td>\n",
              "      <td>1014.2</td>\n",
              "      <td>1019.10</td>\n",
              "      <td>1037.2</td>\n",
              "    </tr>\n",
              "    <tr>\n",
              "      <th>Cloud</th>\n",
              "      <td>7974.0</td>\n",
              "      <td>5.113995</td>\n",
              "      <td>2.642630</td>\n",
              "      <td>0.0</td>\n",
              "      <td>3.00</td>\n",
              "      <td>6.0</td>\n",
              "      <td>7.00</td>\n",
              "      <td>8.0</td>\n",
              "    </tr>\n",
              "    <tr>\n",
              "      <th>Temp</th>\n",
              "      <td>12727.0</td>\n",
              "      <td>20.825206</td>\n",
              "      <td>6.925212</td>\n",
              "      <td>-4.1</td>\n",
              "      <td>15.80</td>\n",
              "      <td>20.1</td>\n",
              "      <td>25.40</td>\n",
              "      <td>46.2</td>\n",
              "    </tr>\n",
              "  </tbody>\n",
              "</table>\n",
              "</div>"
            ],
            "text/plain": [
              "                 count         mean          std  ...     50%      75%      max\n",
              "ID             12994.0  6497.500000  3751.189034  ...  6497.5  9745.75  12994.0\n",
              "MinTemp        12947.0    12.497969     6.388597  ...    12.1    17.10     29.7\n",
              "MaxTemp        12976.0    22.491685     7.099027  ...    21.7    27.40     46.9\n",
              "Rainfall       12833.0     3.650495    11.031150  ...     0.0     2.20    367.6\n",
              "Evaporation     7478.0     5.148930     4.021726  ...     4.4     7.00     86.2\n",
              "Sunshine        6900.0     6.577928     3.933243  ...     7.0     9.90     14.0\n",
              "WindGustSpeed  12074.0    42.016730    14.741531  ...    39.0    50.00    135.0\n",
              "WindSpeed      12733.0    19.078379     9.200108  ...    19.0    24.00     87.0\n",
              "Humidity       12645.0    57.240490    21.854321  ...    58.0    73.00    100.0\n",
              "Pressure       11701.0  1014.200752     7.296169  ...  1014.2  1019.10   1037.2\n",
              "Cloud           7974.0     5.113995     2.642630  ...     6.0     7.00      8.0\n",
              "Temp           12727.0    20.825206     6.925212  ...    20.1    25.40     46.2\n",
              "\n",
              "[12 rows x 8 columns]"
            ]
          },
          "metadata": {
            "tags": []
          },
          "execution_count": 99
        }
      ]
    },
    {
      "cell_type": "markdown",
      "metadata": {
        "id": "FcLuALBpjypD",
        "colab_type": "text"
      },
      "source": [
        "#### Combining train and test data to perform data cleaning with keeping in mind that later we'll have to seperate them. Hence, we add a additional dummy variable in combined data with '1' for train and '0' for test data."
      ]
    },
    {
      "cell_type": "code",
      "metadata": {
        "id": "MCEb0eabjypH",
        "colab_type": "code",
        "colab": {}
      },
      "source": [
        "df_train[\"if_train\"] = 1\n",
        "df_test[\"if_train\"] = 0\n",
        "\n",
        "df_total = df_train.append(df_test)"
      ],
      "execution_count": 0,
      "outputs": []
    },
    {
      "cell_type": "markdown",
      "metadata": {
        "id": "qd-c3N_Xjypc",
        "colab_type": "text"
      },
      "source": [
        "## Data Cleaning"
      ]
    },
    {
      "cell_type": "markdown",
      "metadata": {
        "id": "31eHqdvWjypi",
        "colab_type": "text"
      },
      "source": [
        "#### Column-wise summing the Missing values in dataset.\n",
        "\n",
        "#### Evaporation, Sunshine and Cloud have very large number of missing values. \n",
        "#### Target variable has 12994 missing values which is equal to length of test data. We will confirm it further in our analysis.\n",
        "#### ID variable has 51978 missing values which is equal to length of training data.\n",
        "#### Other variables also have significant amount of missing values, which we'll have to impute. "
      ]
    },
    {
      "cell_type": "code",
      "metadata": {
        "id": "ZcjvnO35jypm",
        "colab_type": "code",
        "colab": {
          "base_uri": "https://localhost:8080/",
          "height": 340
        },
        "outputId": "033b208e-c446-43d2-da57-27a99e512f13"
      },
      "source": [
        "df_total.isna().sum()"
      ],
      "execution_count": 101,
      "outputs": [
        {
          "output_type": "execute_result",
          "data": {
            "text/plain": [
              "Cloud            25150\n",
              "Evaporation      28069\n",
              "Humidity          1778\n",
              "ID               51978\n",
              "Location             0\n",
              "MaxTemp            147\n",
              "MinTemp            331\n",
              "Pressure          6359\n",
              "RainToday          908\n",
              "RainTomorrow     12994\n",
              "Rainfall           908\n",
              "Sunshine         30969\n",
              "Temp              1330\n",
              "WindDir           1900\n",
              "WindGustDir       4527\n",
              "WindGustSpeed     4491\n",
              "WindSpeed         1285\n",
              "if_train             0\n",
              "dtype: int64"
            ]
          },
          "metadata": {
            "tags": []
          },
          "execution_count": 101
        }
      ]
    },
    {
      "cell_type": "markdown",
      "metadata": {
        "id": "sY3FyADajyp1",
        "colab_type": "text"
      },
      "source": [
        "#### Filtering the columns with more than 20% of Missing Values\n",
        "\n",
        "#### Sunshine, Cloud and Evaporation have 48%, 43% and 38% missing values resp."
      ]
    },
    {
      "cell_type": "code",
      "metadata": {
        "id": "3aV4HNqIjyp6",
        "colab_type": "code",
        "colab": {
          "base_uri": "https://localhost:8080/",
          "height": 102
        },
        "outputId": "6ec833f9-adf1-44a1-9b9d-eaf87ad581b2"
      },
      "source": [
        "dirty_var = df_total.isnull().sum(axis=0).sort_values( ascending=False)/len(df_total)\n",
        "dirty_var[ dirty_var > 0.20]"
      ],
      "execution_count": 102,
      "outputs": [
        {
          "output_type": "execute_result",
          "data": {
            "text/plain": [
              "ID             0.800006\n",
              "Sunshine       0.476651\n",
              "Evaporation    0.432017\n",
              "Cloud          0.387090\n",
              "dtype: float64"
            ]
          },
          "metadata": {
            "tags": []
          },
          "execution_count": 102
        }
      ]
    },
    {
      "cell_type": "markdown",
      "metadata": {
        "id": "5lzVc2mSjyqI",
        "colab_type": "text"
      },
      "source": [
        "#### These variables have ~ 40%! Even if we try to impute them with central values, it'll disturb the variance and distribution of data. Hence, we decide to drop Sunshine, Evaporation and Cloud variables. Since ID column is not needed for training data, the missing values are justified."
      ]
    },
    {
      "cell_type": "code",
      "metadata": {
        "id": "OoxLXctGjyqL",
        "colab_type": "code",
        "colab": {}
      },
      "source": [
        "df_total.drop(['Evaporation'] , axis = 1, inplace = True)\n",
        "df_total.drop(['Cloud'] , axis = 1, inplace = True)\n",
        "df_total.drop(['Sunshine'] , axis = 1, inplace = True)"
      ],
      "execution_count": 0,
      "outputs": []
    },
    {
      "cell_type": "markdown",
      "metadata": {
        "id": "Ebpe5eOmjyqW",
        "colab_type": "text"
      },
      "source": [
        "#### First, cleaning the categorical variables. For that, we use the most frequent value of the column to impute in place of Missing Values."
      ]
    },
    {
      "cell_type": "code",
      "metadata": {
        "id": "555RxRaTjyqa",
        "colab_type": "code",
        "colab": {}
      },
      "source": [
        "#df_train.dtypes\n",
        "\n",
        "df_total.RainToday.fillna(df_total.RainToday.mode()[0], inplace=True)\n",
        "df_total.WindDir.fillna(df_total.WindDir.mode()[0], inplace=True)\n",
        "df_total.WindGustDir.fillna(df_total.WindGustDir.mode()[0], inplace=True)"
      ],
      "execution_count": 0,
      "outputs": []
    },
    {
      "cell_type": "markdown",
      "metadata": {
        "id": "I9uYetpXjyqi",
        "colab_type": "text"
      },
      "source": [
        "#### Before cleaning the numerical variables, we plot the boxplot for each and every one of them to check the distribution and see if they contain outliers. The reason for that is when we calculate the mean/median value for imputation, it should not contain the outliers. "
      ]
    },
    {
      "cell_type": "code",
      "metadata": {
        "id": "fZ40OZF_jyqk",
        "colab_type": "code",
        "colab": {
          "base_uri": "https://localhost:8080/",
          "height": 610
        },
        "outputId": "5573485a-431e-4417-f534-c0ce2efc913a"
      },
      "source": [
        "num_var = ['MinTemp', 'MaxTemp', 'Pressure', 'Rainfall', 'Temp', 'Humidity', 'WindGustSpeed', 'WindSpeed']\n",
        "\n",
        "plt.figure(figsize=(15,10))\n",
        "\n",
        "for i in range(len(num_var)):\n",
        "    plt.subplot(2,4,i+1)\n",
        "    plt.boxplot(df_total[num_var[i]].dropna())\n",
        "    plt.title(num_var[i])"
      ],
      "execution_count": 105,
      "outputs": [
        {
          "output_type": "display_data",
          "data": {
            "image/png": "[encoded data removed]",
            "text/plain": [
              "<Figure size 1080x720 with 8 Axes>"
            ]
          },
          "metadata": {
            "tags": []
          }
        }
      ]
    },
    {
      "cell_type": "markdown",
      "metadata": {
        "id": "1z1lQ2x1jyqq",
        "colab_type": "text"
      },
      "source": [
        "#### We create a user defined function, where we will use the IQR method to treat outliers by winsoring. Then after that, we use that function to treat the variables for outliers. Except 'humidity', every variable needs to be treated for outliers. "
      ]
    },
    {
      "cell_type": "code",
      "metadata": {
        "id": "4ztsQ77Bjyqt",
        "colab_type": "code",
        "colab": {}
      },
      "source": [
        "def out_treat(var):\n",
        "    Q1 = np.quantile(var.dropna(), 0.25)\n",
        "    Q3 = np.quantile(var.dropna(), 0.75)\n",
        "    IQR = Q3-Q1\n",
        "    LC = Q1 - (1.5 * IQR)\n",
        "    UC = Q3 + (1.5 * IQR)\n",
        "    var[var > UC] = UC\n",
        "    var[var < LC] = LC\n",
        "    return(var)\n",
        "\n",
        "df_total.MinTemp       = out_treat(df_total.MinTemp)\n",
        "df_total.MaxTemp       = out_treat(df_total.MaxTemp)\n",
        "df_total.Pressure      = out_treat(df_total.Pressure)\n",
        "df_total.Rainfall      = out_treat(df_total.Rainfall)\n",
        "df_total.Temp          = out_treat(df_total.Temp)\n",
        "df_total.WindGustSpeed = out_treat(df_total.WindGustSpeed)\n",
        "df_total.WindSpeed     = out_treat(df_total.WindSpeed)"
      ],
      "execution_count": 0,
      "outputs": []
    },
    {
      "cell_type": "markdown",
      "metadata": {
        "id": "bQfzKUApjyqy",
        "colab_type": "text"
      },
      "source": [
        "#### Now we can impute the Missing Values in numerical variable by the mean/median of that column. To decide between mean and median, we plot the histogram to check the distribution and skewness for each variable and decide what is the best estimate for Missing Values. Some variables are normally distributed but most of them are skewed, so impute the missing values with median."
      ]
    },
    {
      "cell_type": "code",
      "metadata": {
        "id": "9Iq7NkRijyq0",
        "colab_type": "code",
        "colab": {
          "base_uri": "https://localhost:8080/",
          "height": 610
        },
        "outputId": "bf5ea72d-365b-4e03-89ef-53c819e405a5"
      },
      "source": [
        "plt.figure(figsize=(15,10))\n",
        "for i in range(len(num_var)):\n",
        "    plt.subplot(2,4,i+1)\n",
        "    plt.hist(df_total[num_var[i]], bins = 80, alpha = 0.7, histtype = 'bar', facecolor = 'g')\n",
        "    plt.title(num_var[i])"
      ],
      "execution_count": 107,
      "outputs": [
        {
          "output_type": "display_data",
          "data": {
            "image/png": "[encoded data removed]",
            "text/plain": [
              "<Figure size 1080x720 with 8 Axes>"
            ]
          },
          "metadata": {
            "tags": []
          }
        }
      ]
    },
    {
      "cell_type": "markdown",
      "metadata": {
        "id": "NFSMsvq6jyq4",
        "colab_type": "text"
      },
      "source": [
        "### Group by 'RainToday' justification: Rainfall is the product of specific enviornmental parameters. We all know that water evaporates, becomaes vapor and then condenses back to liquid form to what we term as 'Rainfall'. For water condensing back to liquid form, the parameters such as pressure, temperature, wind etc needs to attain specific values. It means, the enviornmental parameters must be having different values on a rainy day than any normal day. \n",
        "\n",
        "### Hence, we group the data by 'RainToday' variable, and then impute the Missing values by the median value of that particular group for each and every variable."
      ]
    },
    {
      "cell_type": "code",
      "metadata": {
        "id": "jCRwiYaNjyq5",
        "colab_type": "code",
        "colab": {}
      },
      "source": [
        "for i in range(len(num_var)):\n",
        "    df_total[num_var[i]] = df_total.groupby([\"RainToday\"])[num_var[i]].transform(lambda x: x.fillna(x.median()))"
      ],
      "execution_count": 0,
      "outputs": []
    },
    {
      "cell_type": "markdown",
      "metadata": {
        "id": "VzNDFlC-jyq8",
        "colab_type": "text"
      },
      "source": [
        "#### After imputing the Missing values with median, new outliers may be created in few variables. Rechecking the boxplot and treating those variables for outliers again."
      ]
    },
    {
      "cell_type": "code",
      "metadata": {
        "id": "tkdGTFXsjyq9",
        "colab_type": "code",
        "colab": {}
      },
      "source": [
        "df_total.MinTemp     = out_treat(df_total.MinTemp)\n",
        "df_total.Pressure    = out_treat(df_total.Pressure)\n",
        "df_total.Rainfall    = out_treat(df_total.Rainfall)\n",
        "df_total.Temp        = out_treat(df_total.Temp)"
      ],
      "execution_count": 0,
      "outputs": []
    },
    {
      "cell_type": "markdown",
      "metadata": {
        "id": "LRJ3J92OjyrB",
        "colab_type": "text"
      },
      "source": [
        "#### Now, we seperate the training and testing data set. Dropping the 'if_train' variable from both test and train dataset. Also, dropping 'ID' var from train dataset."
      ]
    },
    {
      "cell_type": "code",
      "metadata": {
        "id": "544JW7OujyrD",
        "colab_type": "code",
        "colab": {}
      },
      "source": [
        "df_train1 = df_total[df_total.if_train == 1]\n",
        "df_test1 = df_total[df_total.if_train == 0]\n",
        "\n",
        "df_train1.drop(['if_train'] , axis = 1, inplace = True)\n",
        "df_test1.drop(['if_train'] , axis = 1, inplace = True)\n",
        "\n",
        "df_train1.drop(['ID'] , axis = 1, inplace = True)"
      ],
      "execution_count": 0,
      "outputs": []
    },
    {
      "cell_type": "markdown",
      "metadata": {
        "id": "OvGBnlo2jyrH",
        "colab_type": "text"
      },
      "source": [
        "## Exploratory Data Analysis"
      ]
    },
    {
      "cell_type": "markdown",
      "metadata": {
        "id": "WIu_u52YjyrI",
        "colab_type": "text"
      },
      "source": [
        "### Analysing target variable."
      ]
    },
    {
      "cell_type": "markdown",
      "metadata": {
        "id": "u162KNlrjyrJ",
        "colab_type": "text"
      },
      "source": [
        "#### Statistically analysing target variable.\n",
        "\n",
        "#### Target variable is a categorical variable with 2 levels."
      ]
    },
    {
      "cell_type": "code",
      "metadata": {
        "id": "1IXdsCawjyrK",
        "colab_type": "code",
        "colab": {
          "base_uri": "https://localhost:8080/",
          "height": 0
        },
        "outputId": "3b10d9e5-06c6-4f74-b611-dbcf1d40a90b"
      },
      "source": [
        "df_train1.RainTomorrow.describe()"
      ],
      "execution_count": 111,
      "outputs": [
        {
          "output_type": "execute_result",
          "data": {
            "text/plain": [
              "count     51978\n",
              "unique        2\n",
              "top          No\n",
              "freq      26459\n",
              "Name: RainTomorrow, dtype: object"
            ]
          },
          "metadata": {
            "tags": []
          },
          "execution_count": 111
        }
      ]
    },
    {
      "cell_type": "markdown",
      "metadata": {
        "id": "cA8L6_4ZjyrN",
        "colab_type": "text"
      },
      "source": [
        "#### Displaying the observations about target variable."
      ]
    },
    {
      "cell_type": "code",
      "metadata": {
        "id": "xIjHNKVTjyrO",
        "colab_type": "code",
        "colab": {
          "base_uri": "https://localhost:8080/",
          "height": 0
        },
        "outputId": "99e192d3-0be3-4aa9-f4dc-ff47e509af4e"
      },
      "source": [
        "print(\"The target variable has\", df_train1.RainTomorrow.isnull().sum(), \"missing values\")\n",
        "print(\"The target variable has\", df_train1.RainTomorrow.nunique(), \"unique values\")\n",
        "print(\"They are: \", df_train1.RainTomorrow.unique()[0], \"and\", df_train1.RainTomorrow.unique()[1])\n",
        "print(\"Percentage distribution of values:\", df_train1.RainTomorrow.value_counts()/len(df_train1))"
      ],
      "execution_count": 112,
      "outputs": [
        {
          "output_type": "stream",
          "text": [
            "The target variable has 0 missing values\n",
            "The target variable has 2 unique values\n",
            "They are:  Yes and No\n",
            "Percentage distribution of values: No     0.509042\n",
            "Yes    0.490958\n",
            "Name: RainTomorrow, dtype: float64\n"
          ],
          "name": "stdout"
        }
      ]
    },
    {
      "cell_type": "markdown",
      "metadata": {
        "id": "e8ml1TDxjyrR",
        "colab_type": "text"
      },
      "source": [
        "#### Plotting the frequency distribution for the target variable. \n",
        "\n",
        "### This is a balanced dataset. The target variable values 'Yes' and 'No' are equally distributed."
      ]
    },
    {
      "cell_type": "code",
      "metadata": {
        "id": "r2U4hWOtjyrS",
        "colab_type": "code",
        "colab": {
          "base_uri": "https://localhost:8080/",
          "height": 0
        },
        "outputId": "6427d388-5023-4df4-90ad-cee54682f269"
      },
      "source": [
        "rtm_bar = sns.countplot(x=df_train1.RainTomorrow)"
      ],
      "execution_count": 113,
      "outputs": [
        {
          "output_type": "display_data",
          "data": {
            "image/png": "[encoded data removed]",
            "text/plain": [
              "<Figure size 432x288 with 1 Axes>"
            ]
          },
          "metadata": {
            "tags": []
          }
        }
      ]
    },
    {
      "cell_type": "markdown",
      "metadata": {
        "id": "C8k2tLysjyrV",
        "colab_type": "text"
      },
      "source": [
        "### Analysing Numerical variables.\n",
        "\n",
        "#### First, plotting the correlation plot for all the numerical variables.\n",
        "\n",
        "#### Observations:\n",
        "#### 1] MaxTemp and Temp variables are very highly correlated: r = 0.96\n",
        "#### 2] Rainfall and Humidity have a very interesting correlation of r = 0.42\n",
        "#### 3] Another interesting correlation is between Temp and Humidity of r = -0.55\n",
        "#### 4] Another interesting observation is that 'Pressure' is negatively correlated with all the temperature variables.\n",
        "#### 5] Also, Pressure is highly negatively correlated with WindGustSpeed with r = -0.38"
      ]
    },
    {
      "cell_type": "code",
      "metadata": {
        "id": "fvCKoHVgjyrW",
        "colab_type": "code",
        "colab": {
          "base_uri": "https://localhost:8080/",
          "height": 0
        },
        "outputId": "ad6ede78-9069-4167-8a7f-fef5d276a684"
      },
      "source": [
        "corr = df_train1.corr()\n",
        "corr.style.background_gradient(cmap='BrBG')"
      ],
      "execution_count": 114,
      "outputs": [
        {
          "output_type": "execute_result",
          "data": {
            "text/html": [
              "<style  type=\"text/css\" >\n",
              "    #T_68dbfe96_5d0a_11ea_b5e7_0242ac1c0002row0_col0 {\n",
              "            background-color:  #003c30;\n",
              "            color:  #f1f1f1;\n",
              "        }    #T_68dbfe96_5d0a_11ea_b5e7_0242ac1c0002row0_col1 {\n",
              "            background-color:  #543005;\n",
              "            color:  #f1f1f1;\n",
              "        }    #T_68dbfe96_5d0a_11ea_b5e7_0242ac1c0002row0_col2 {\n",
              "            background-color:  #dbb972;\n",
              "            color:  #000000;\n",
              "        }    #T_68dbfe96_5d0a_11ea_b5e7_0242ac1c0002row0_col3 {\n",
              "            background-color:  #d3aa5f;\n",
              "            color:  #000000;\n",
              "        }    #T_68dbfe96_5d0a_11ea_b5e7_0242ac1c0002row0_col4 {\n",
              "            background-color:  #e6f1f0;\n",
              "            color:  #000000;\n",
              "        }    #T_68dbfe96_5d0a_11ea_b5e7_0242ac1c0002row0_col5 {\n",
              "            background-color:  #543005;\n",
              "            color:  #f1f1f1;\n",
              "        }    #T_68dbfe96_5d0a_11ea_b5e7_0242ac1c0002row0_col6 {\n",
              "            background-color:  #ddbe78;\n",
              "            color:  #000000;\n",
              "        }    #T_68dbfe96_5d0a_11ea_b5e7_0242ac1c0002row0_col7 {\n",
              "            background-color:  #b17423;\n",
              "            color:  #000000;\n",
              "        }    #T_68dbfe96_5d0a_11ea_b5e7_0242ac1c0002row1_col0 {\n",
              "            background-color:  #6c3e07;\n",
              "            color:  #f1f1f1;\n",
              "        }    #T_68dbfe96_5d0a_11ea_b5e7_0242ac1c0002row1_col1 {\n",
              "            background-color:  #003c30;\n",
              "            color:  #f1f1f1;\n",
              "        }    #T_68dbfe96_5d0a_11ea_b5e7_0242ac1c0002row1_col2 {\n",
              "            background-color:  #2f9189;\n",
              "            color:  #000000;\n",
              "        }    #T_68dbfe96_5d0a_11ea_b5e7_0242ac1c0002row1_col3 {\n",
              "            background-color:  #714108;\n",
              "            color:  #f1f1f1;\n",
              "        }    #T_68dbfe96_5d0a_11ea_b5e7_0242ac1c0002row1_col4 {\n",
              "            background-color:  #563105;\n",
              "            color:  #f1f1f1;\n",
              "        }    #T_68dbfe96_5d0a_11ea_b5e7_0242ac1c0002row1_col5 {\n",
              "            background-color:  #00463b;\n",
              "            color:  #f1f1f1;\n",
              "        }    #T_68dbfe96_5d0a_11ea_b5e7_0242ac1c0002row1_col6 {\n",
              "            background-color:  #dbb972;\n",
              "            color:  #000000;\n",
              "        }    #T_68dbfe96_5d0a_11ea_b5e7_0242ac1c0002row1_col7 {\n",
              "            background-color:  #bb7d2a;\n",
              "            color:  #000000;\n",
              "        }    #T_68dbfe96_5d0a_11ea_b5e7_0242ac1c0002row2_col0 {\n",
              "            background-color:  #f0deb0;\n",
              "            color:  #000000;\n",
              "        }    #T_68dbfe96_5d0a_11ea_b5e7_0242ac1c0002row2_col1 {\n",
              "            background-color:  #298b83;\n",
              "            color:  #000000;\n",
              "        }    #T_68dbfe96_5d0a_11ea_b5e7_0242ac1c0002row2_col2 {\n",
              "            background-color:  #003c30;\n",
              "            color:  #f1f1f1;\n",
              "        }    #T_68dbfe96_5d0a_11ea_b5e7_0242ac1c0002row2_col3 {\n",
              "            background-color:  #583305;\n",
              "            color:  #f1f1f1;\n",
              "        }    #T_68dbfe96_5d0a_11ea_b5e7_0242ac1c0002row2_col4 {\n",
              "            background-color:  #d1a559;\n",
              "            color:  #000000;\n",
              "        }    #T_68dbfe96_5d0a_11ea_b5e7_0242ac1c0002row2_col5 {\n",
              "            background-color:  #31938b;\n",
              "            color:  #000000;\n",
              "        }    #T_68dbfe96_5d0a_11ea_b5e7_0242ac1c0002row2_col6 {\n",
              "            background-color:  #efdcad;\n",
              "            color:  #000000;\n",
              "        }    #T_68dbfe96_5d0a_11ea_b5e7_0242ac1c0002row2_col7 {\n",
              "            background-color:  #d7b169;\n",
              "            color:  #000000;\n",
              "        }    #T_68dbfe96_5d0a_11ea_b5e7_0242ac1c0002row3_col0 {\n",
              "            background-color:  #e8d29a;\n",
              "            color:  #000000;\n",
              "        }    #T_68dbfe96_5d0a_11ea_b5e7_0242ac1c0002row3_col1 {\n",
              "            background-color:  #93580f;\n",
              "            color:  #f1f1f1;\n",
              "        }    #T_68dbfe96_5d0a_11ea_b5e7_0242ac1c0002row3_col2 {\n",
              "            background-color:  #543005;\n",
              "            color:  #f1f1f1;\n",
              "        }    #T_68dbfe96_5d0a_11ea_b5e7_0242ac1c0002row3_col3 {\n",
              "            background-color:  #003c30;\n",
              "            color:  #f1f1f1;\n",
              "        }    #T_68dbfe96_5d0a_11ea_b5e7_0242ac1c0002row3_col4 {\n",
              "            background-color:  #7c4709;\n",
              "            color:  #f1f1f1;\n",
              "        }    #T_68dbfe96_5d0a_11ea_b5e7_0242ac1c0002row3_col5 {\n",
              "            background-color:  #b57826;\n",
              "            color:  #000000;\n",
              "        }    #T_68dbfe96_5d0a_11ea_b5e7_0242ac1c0002row3_col6 {\n",
              "            background-color:  #543005;\n",
              "            color:  #f1f1f1;\n",
              "        }    #T_68dbfe96_5d0a_11ea_b5e7_0242ac1c0002row3_col7 {\n",
              "            background-color:  #543005;\n",
              "            color:  #f1f1f1;\n",
              "        }    #T_68dbfe96_5d0a_11ea_b5e7_0242ac1c0002row4_col0 {\n",
              "            background-color:  #b4e2db;\n",
              "            color:  #000000;\n",
              "        }    #T_68dbfe96_5d0a_11ea_b5e7_0242ac1c0002row4_col1 {\n",
              "            background-color:  #b17423;\n",
              "            color:  #000000;\n",
              "        }    #T_68dbfe96_5d0a_11ea_b5e7_0242ac1c0002row4_col2 {\n",
              "            background-color:  #e6cd92;\n",
              "            color:  #000000;\n",
              "        }    #T_68dbfe96_5d0a_11ea_b5e7_0242ac1c0002row4_col3 {\n",
              "            background-color:  #b17423;\n",
              "            color:  #000000;\n",
              "        }    #T_68dbfe96_5d0a_11ea_b5e7_0242ac1c0002row4_col4 {\n",
              "            background-color:  #003c30;\n",
              "            color:  #f1f1f1;\n",
              "        }    #T_68dbfe96_5d0a_11ea_b5e7_0242ac1c0002row4_col5 {\n",
              "            background-color:  #c08430;\n",
              "            color:  #000000;\n",
              "        }    #T_68dbfe96_5d0a_11ea_b5e7_0242ac1c0002row4_col6 {\n",
              "            background-color:  #f6eacb;\n",
              "            color:  #000000;\n",
              "        }    #T_68dbfe96_5d0a_11ea_b5e7_0242ac1c0002row4_col7 {\n",
              "            background-color:  #cea053;\n",
              "            color:  #000000;\n",
              "        }    #T_68dbfe96_5d0a_11ea_b5e7_0242ac1c0002row5_col0 {\n",
              "            background-color:  #543005;\n",
              "            color:  #f1f1f1;\n",
              "        }    #T_68dbfe96_5d0a_11ea_b5e7_0242ac1c0002row5_col1 {\n",
              "            background-color:  #00463b;\n",
              "            color:  #f1f1f1;\n",
              "        }    #T_68dbfe96_5d0a_11ea_b5e7_0242ac1c0002row5_col2 {\n",
              "            background-color:  #44a299;\n",
              "            color:  #000000;\n",
              "        }    #T_68dbfe96_5d0a_11ea_b5e7_0242ac1c0002row5_col3 {\n",
              "            background-color:  #824b09;\n",
              "            color:  #f1f1f1;\n",
              "        }    #T_68dbfe96_5d0a_11ea_b5e7_0242ac1c0002row5_col4 {\n",
              "            background-color:  #543005;\n",
              "            color:  #f1f1f1;\n",
              "        }    #T_68dbfe96_5d0a_11ea_b5e7_0242ac1c0002row5_col5 {\n",
              "            background-color:  #003c30;\n",
              "            color:  #f1f1f1;\n",
              "        }    #T_68dbfe96_5d0a_11ea_b5e7_0242ac1c0002row5_col6 {\n",
              "            background-color:  #d2a75c;\n",
              "            color:  #000000;\n",
              "        }    #T_68dbfe96_5d0a_11ea_b5e7_0242ac1c0002row5_col7 {\n",
              "            background-color:  #b37625;\n",
              "            color:  #000000;\n",
              "        }    #T_68dbfe96_5d0a_11ea_b5e7_0242ac1c0002row6_col0 {\n",
              "            background-color:  #f0deb0;\n",
              "            color:  #000000;\n",
              "        }    #T_68dbfe96_5d0a_11ea_b5e7_0242ac1c0002row6_col1 {\n",
              "            background-color:  #e8d097;\n",
              "            color:  #000000;\n",
              "        }    #T_68dbfe96_5d0a_11ea_b5e7_0242ac1c0002row6_col2 {\n",
              "            background-color:  #edd9a8;\n",
              "            color:  #000000;\n",
              "        }    #T_68dbfe96_5d0a_11ea_b5e7_0242ac1c0002row6_col3 {\n",
              "            background-color:  #543005;\n",
              "            color:  #f1f1f1;\n",
              "        }    #T_68dbfe96_5d0a_11ea_b5e7_0242ac1c0002row6_col4 {\n",
              "            background-color:  #e9d39d;\n",
              "            color:  #000000;\n",
              "        }    #T_68dbfe96_5d0a_11ea_b5e7_0242ac1c0002row6_col5 {\n",
              "            background-color:  #e8d097;\n",
              "            color:  #000000;\n",
              "        }    #T_68dbfe96_5d0a_11ea_b5e7_0242ac1c0002row6_col6 {\n",
              "            background-color:  #003c30;\n",
              "            color:  #f1f1f1;\n",
              "        }    #T_68dbfe96_5d0a_11ea_b5e7_0242ac1c0002row6_col7 {\n",
              "            background-color:  #79c8bc;\n",
              "            color:  #000000;\n",
              "        }    #T_68dbfe96_5d0a_11ea_b5e7_0242ac1c0002row7_col0 {\n",
              "            background-color:  #ebd6a2;\n",
              "            color:  #000000;\n",
              "        }    #T_68dbfe96_5d0a_11ea_b5e7_0242ac1c0002row7_col1 {\n",
              "            background-color:  #e8d097;\n",
              "            color:  #000000;\n",
              "        }    #T_68dbfe96_5d0a_11ea_b5e7_0242ac1c0002row7_col2 {\n",
              "            background-color:  #ecd8a5;\n",
              "            color:  #000000;\n",
              "        }    #T_68dbfe96_5d0a_11ea_b5e7_0242ac1c0002row7_col3 {\n",
              "            background-color:  #975b12;\n",
              "            color:  #f1f1f1;\n",
              "        }    #T_68dbfe96_5d0a_11ea_b5e7_0242ac1c0002row7_col4 {\n",
              "            background-color:  #d2a75c;\n",
              "            color:  #000000;\n",
              "        }    #T_68dbfe96_5d0a_11ea_b5e7_0242ac1c0002row7_col5 {\n",
              "            background-color:  #ebd6a2;\n",
              "            color:  #000000;\n",
              "        }    #T_68dbfe96_5d0a_11ea_b5e7_0242ac1c0002row7_col6 {\n",
              "            background-color:  #5eb5aa;\n",
              "            color:  #000000;\n",
              "        }    #T_68dbfe96_5d0a_11ea_b5e7_0242ac1c0002row7_col7 {\n",
              "            background-color:  #003c30;\n",
              "            color:  #f1f1f1;\n",
              "        }</style><table id=\"T_68dbfe96_5d0a_11ea_b5e7_0242ac1c0002\" ><thead>    <tr>        <th class=\"blank level0\" ></th>        <th class=\"col_heading level0 col0\" >Humidity</th>        <th class=\"col_heading level0 col1\" >MaxTemp</th>        <th class=\"col_heading level0 col2\" >MinTemp</th>        <th class=\"col_heading level0 col3\" >Pressure</th>        <th class=\"col_heading level0 col4\" >Rainfall</th>        <th class=\"col_heading level0 col5\" >Temp</th>        <th class=\"col_heading level0 col6\" >WindGustSpeed</th>        <th class=\"col_heading level0 col7\" >WindSpeed</th>    </tr></thead><tbody>\n",
              "                <tr>\n",
              "                        <th id=\"T_68dbfe96_5d0a_11ea_b5e7_0242ac1c0002level0_row0\" class=\"row_heading level0 row0\" >Humidity</th>\n",
              "                        <td id=\"T_68dbfe96_5d0a_11ea_b5e7_0242ac1c0002row0_col0\" class=\"data row0 col0\" >1</td>\n",
              "                        <td id=\"T_68dbfe96_5d0a_11ea_b5e7_0242ac1c0002row0_col1\" class=\"data row0 col1\" >-0.48498</td>\n",
              "                        <td id=\"T_68dbfe96_5d0a_11ea_b5e7_0242ac1c0002row0_col2\" class=\"data row0 col2\" >0.0248851</td>\n",
              "                        <td id=\"T_68dbfe96_5d0a_11ea_b5e7_0242ac1c0002row0_col3\" class=\"data row0 col3\" >-0.0210501</td>\n",
              "                        <td id=\"T_68dbfe96_5d0a_11ea_b5e7_0242ac1c0002row0_col4\" class=\"data row0 col4\" >0.42317</td>\n",
              "                        <td id=\"T_68dbfe96_5d0a_11ea_b5e7_0242ac1c0002row0_col5\" class=\"data row0 col5\" >-0.551776</td>\n",
              "                        <td id=\"T_68dbfe96_5d0a_11ea_b5e7_0242ac1c0002row0_col6\" class=\"data row0 col6\" >0.0262128</td>\n",
              "                        <td id=\"T_68dbfe96_5d0a_11ea_b5e7_0242ac1c0002row0_col7\" class=\"data row0 col7\" >-0.0036616</td>\n",
              "            </tr>\n",
              "            <tr>\n",
              "                        <th id=\"T_68dbfe96_5d0a_11ea_b5e7_0242ac1c0002level0_row1\" class=\"row_heading level0 row1\" >MaxTemp</th>\n",
              "                        <td id=\"T_68dbfe96_5d0a_11ea_b5e7_0242ac1c0002row1_col0\" class=\"data row1 col0\" >-0.48498</td>\n",
              "                        <td id=\"T_68dbfe96_5d0a_11ea_b5e7_0242ac1c0002row1_col1\" class=\"data row1 col1\" >1</td>\n",
              "                        <td id=\"T_68dbfe96_5d0a_11ea_b5e7_0242ac1c0002row1_col2\" class=\"data row1 col2\" >0.738053</td>\n",
              "                        <td id=\"T_68dbfe96_5d0a_11ea_b5e7_0242ac1c0002row1_col3\" class=\"data row1 col3\" >-0.311234</td>\n",
              "                        <td id=\"T_68dbfe96_5d0a_11ea_b5e7_0242ac1c0002row1_col4\" class=\"data row1 col4\" >-0.225682</td>\n",
              "                        <td id=\"T_68dbfe96_5d0a_11ea_b5e7_0242ac1c0002row1_col5\" class=\"data row1 col5\" >0.962846</td>\n",
              "                        <td id=\"T_68dbfe96_5d0a_11ea_b5e7_0242ac1c0002row1_col6\" class=\"data row1 col6\" >0.0140291</td>\n",
              "                        <td id=\"T_68dbfe96_5d0a_11ea_b5e7_0242ac1c0002row1_col7\" class=\"data row1 col7\" >0.0174115</td>\n",
              "            </tr>\n",
              "            <tr>\n",
              "                        <th id=\"T_68dbfe96_5d0a_11ea_b5e7_0242ac1c0002level0_row2\" class=\"row_heading level0 row2\" >MinTemp</th>\n",
              "                        <td id=\"T_68dbfe96_5d0a_11ea_b5e7_0242ac1c0002row2_col0\" class=\"data row2 col0\" >0.0248851</td>\n",
              "                        <td id=\"T_68dbfe96_5d0a_11ea_b5e7_0242ac1c0002row2_col1\" class=\"data row2 col1\" >0.738053</td>\n",
              "                        <td id=\"T_68dbfe96_5d0a_11ea_b5e7_0242ac1c0002row2_col2\" class=\"data row2 col2\" >1</td>\n",
              "                        <td id=\"T_68dbfe96_5d0a_11ea_b5e7_0242ac1c0002row2_col3\" class=\"data row2 col3\" >-0.368983</td>\n",
              "                        <td id=\"T_68dbfe96_5d0a_11ea_b5e7_0242ac1c0002row2_col4\" class=\"data row2 col4\" >0.0829835</td>\n",
              "                        <td id=\"T_68dbfe96_5d0a_11ea_b5e7_0242ac1c0002row2_col5\" class=\"data row2 col5\" >0.697724</td>\n",
              "                        <td id=\"T_68dbfe96_5d0a_11ea_b5e7_0242ac1c0002row2_col6\" class=\"data row2 col6\" >0.126896</td>\n",
              "                        <td id=\"T_68dbfe96_5d0a_11ea_b5e7_0242ac1c0002row2_col7\" class=\"data row2 col7\" >0.120534</td>\n",
              "            </tr>\n",
              "            <tr>\n",
              "                        <th id=\"T_68dbfe96_5d0a_11ea_b5e7_0242ac1c0002level0_row3\" class=\"row_heading level0 row3\" >Pressure</th>\n",
              "                        <td id=\"T_68dbfe96_5d0a_11ea_b5e7_0242ac1c0002row3_col0\" class=\"data row3 col0\" >-0.0210501</td>\n",
              "                        <td id=\"T_68dbfe96_5d0a_11ea_b5e7_0242ac1c0002row3_col1\" class=\"data row3 col1\" >-0.311234</td>\n",
              "                        <td id=\"T_68dbfe96_5d0a_11ea_b5e7_0242ac1c0002row3_col2\" class=\"data row3 col2\" >-0.368983</td>\n",
              "                        <td id=\"T_68dbfe96_5d0a_11ea_b5e7_0242ac1c0002row3_col3\" class=\"data row3 col3\" >1</td>\n",
              "                        <td id=\"T_68dbfe96_5d0a_11ea_b5e7_0242ac1c0002row3_col4\" class=\"data row3 col4\" >-0.145621</td>\n",
              "                        <td id=\"T_68dbfe96_5d0a_11ea_b5e7_0242ac1c0002row3_col5\" class=\"data row3 col5\" >-0.268595</td>\n",
              "                        <td id=\"T_68dbfe96_5d0a_11ea_b5e7_0242ac1c0002row3_col6\" class=\"data row3 col6\" >-0.384243</td>\n",
              "                        <td id=\"T_68dbfe96_5d0a_11ea_b5e7_0242ac1c0002row3_col7\" class=\"data row3 col7\" >-0.215734</td>\n",
              "            </tr>\n",
              "            <tr>\n",
              "                        <th id=\"T_68dbfe96_5d0a_11ea_b5e7_0242ac1c0002level0_row4\" class=\"row_heading level0 row4\" >Rainfall</th>\n",
              "                        <td id=\"T_68dbfe96_5d0a_11ea_b5e7_0242ac1c0002row4_col0\" class=\"data row4 col0\" >0.42317</td>\n",
              "                        <td id=\"T_68dbfe96_5d0a_11ea_b5e7_0242ac1c0002row4_col1\" class=\"data row4 col1\" >-0.225682</td>\n",
              "                        <td id=\"T_68dbfe96_5d0a_11ea_b5e7_0242ac1c0002row4_col2\" class=\"data row4 col2\" >0.0829835</td>\n",
              "                        <td id=\"T_68dbfe96_5d0a_11ea_b5e7_0242ac1c0002row4_col3\" class=\"data row4 col3\" >-0.145621</td>\n",
              "                        <td id=\"T_68dbfe96_5d0a_11ea_b5e7_0242ac1c0002row4_col4\" class=\"data row4 col4\" >1</td>\n",
              "                        <td id=\"T_68dbfe96_5d0a_11ea_b5e7_0242ac1c0002row4_col5\" class=\"data row4 col5\" >-0.23295</td>\n",
              "                        <td id=\"T_68dbfe96_5d0a_11ea_b5e7_0242ac1c0002row4_col6\" class=\"data row4 col6\" >0.192805</td>\n",
              "                        <td id=\"T_68dbfe96_5d0a_11ea_b5e7_0242ac1c0002row4_col7\" class=\"data row4 col7\" >0.0875996</td>\n",
              "            </tr>\n",
              "            <tr>\n",
              "                        <th id=\"T_68dbfe96_5d0a_11ea_b5e7_0242ac1c0002level0_row5\" class=\"row_heading level0 row5\" >Temp</th>\n",
              "                        <td id=\"T_68dbfe96_5d0a_11ea_b5e7_0242ac1c0002row5_col0\" class=\"data row5 col0\" >-0.551776</td>\n",
              "                        <td id=\"T_68dbfe96_5d0a_11ea_b5e7_0242ac1c0002row5_col1\" class=\"data row5 col1\" >0.962846</td>\n",
              "                        <td id=\"T_68dbfe96_5d0a_11ea_b5e7_0242ac1c0002row5_col2\" class=\"data row5 col2\" >0.697724</td>\n",
              "                        <td id=\"T_68dbfe96_5d0a_11ea_b5e7_0242ac1c0002row5_col3\" class=\"data row5 col3\" >-0.268595</td>\n",
              "                        <td id=\"T_68dbfe96_5d0a_11ea_b5e7_0242ac1c0002row5_col4\" class=\"data row5 col4\" >-0.23295</td>\n",
              "                        <td id=\"T_68dbfe96_5d0a_11ea_b5e7_0242ac1c0002row5_col5\" class=\"data row5 col5\" >1</td>\n",
              "                        <td id=\"T_68dbfe96_5d0a_11ea_b5e7_0242ac1c0002row5_col6\" class=\"data row5 col6\" >-0.0272193</td>\n",
              "                        <td id=\"T_68dbfe96_5d0a_11ea_b5e7_0242ac1c0002row5_col7\" class=\"data row5 col7\" >-0.000736592</td>\n",
              "            </tr>\n",
              "            <tr>\n",
              "                        <th id=\"T_68dbfe96_5d0a_11ea_b5e7_0242ac1c0002level0_row6\" class=\"row_heading level0 row6\" >WindGustSpeed</th>\n",
              "                        <td id=\"T_68dbfe96_5d0a_11ea_b5e7_0242ac1c0002row6_col0\" class=\"data row6 col0\" >0.0262128</td>\n",
              "                        <td id=\"T_68dbfe96_5d0a_11ea_b5e7_0242ac1c0002row6_col1\" class=\"data row6 col1\" >0.0140291</td>\n",
              "                        <td id=\"T_68dbfe96_5d0a_11ea_b5e7_0242ac1c0002row6_col2\" class=\"data row6 col2\" >0.126896</td>\n",
              "                        <td id=\"T_68dbfe96_5d0a_11ea_b5e7_0242ac1c0002row6_col3\" class=\"data row6 col3\" >-0.384243</td>\n",
              "                        <td id=\"T_68dbfe96_5d0a_11ea_b5e7_0242ac1c0002row6_col4\" class=\"data row6 col4\" >0.192805</td>\n",
              "                        <td id=\"T_68dbfe96_5d0a_11ea_b5e7_0242ac1c0002row6_col5\" class=\"data row6 col5\" >-0.0272193</td>\n",
              "                        <td id=\"T_68dbfe96_5d0a_11ea_b5e7_0242ac1c0002row6_col6\" class=\"data row6 col6\" >1</td>\n",
              "                        <td id=\"T_68dbfe96_5d0a_11ea_b5e7_0242ac1c0002row6_col7\" class=\"data row6 col7\" >0.643906</td>\n",
              "            </tr>\n",
              "            <tr>\n",
              "                        <th id=\"T_68dbfe96_5d0a_11ea_b5e7_0242ac1c0002level0_row7\" class=\"row_heading level0 row7\" >WindSpeed</th>\n",
              "                        <td id=\"T_68dbfe96_5d0a_11ea_b5e7_0242ac1c0002row7_col0\" class=\"data row7 col0\" >-0.0036616</td>\n",
              "                        <td id=\"T_68dbfe96_5d0a_11ea_b5e7_0242ac1c0002row7_col1\" class=\"data row7 col1\" >0.0174115</td>\n",
              "                        <td id=\"T_68dbfe96_5d0a_11ea_b5e7_0242ac1c0002row7_col2\" class=\"data row7 col2\" >0.120534</td>\n",
              "                        <td id=\"T_68dbfe96_5d0a_11ea_b5e7_0242ac1c0002row7_col3\" class=\"data row7 col3\" >-0.215734</td>\n",
              "                        <td id=\"T_68dbfe96_5d0a_11ea_b5e7_0242ac1c0002row7_col4\" class=\"data row7 col4\" >0.0875996</td>\n",
              "                        <td id=\"T_68dbfe96_5d0a_11ea_b5e7_0242ac1c0002row7_col5\" class=\"data row7 col5\" >-0.000736592</td>\n",
              "                        <td id=\"T_68dbfe96_5d0a_11ea_b5e7_0242ac1c0002row7_col6\" class=\"data row7 col6\" >0.643906</td>\n",
              "                        <td id=\"T_68dbfe96_5d0a_11ea_b5e7_0242ac1c0002row7_col7\" class=\"data row7 col7\" >1</td>\n",
              "            </tr>\n",
              "    </tbody></table>"
            ],
            "text/plain": [
              "<pandas.io.formats.style.Styler at 0x7fbc0f4616d8>"
            ]
          },
          "metadata": {
            "tags": []
          },
          "execution_count": 114
        }
      ]
    },
    {
      "cell_type": "markdown",
      "metadata": {
        "id": "GKqj0nmzjyrZ",
        "colab_type": "text"
      },
      "source": [
        "### Bivariate Analysis"
      ]
    },
    {
      "cell_type": "markdown",
      "metadata": {
        "id": "cDnEg0eVjyra",
        "colab_type": "text"
      },
      "source": [
        "### RainTomorrow vs Humidity\n",
        "#### Humidity for RainTomorrow = No is pretty much normally distributed. But for the RainTomorrow = Yes, it is left skewed. This justifies the relation of humidity with rainfall. Areas with high humidity will receive high rainfall."
      ]
    },
    {
      "cell_type": "code",
      "metadata": {
        "id": "OcTPPotujyrb",
        "colab_type": "code",
        "colab": {
          "base_uri": "https://localhost:8080/",
          "height": 0
        },
        "outputId": "89778950-693d-4046-c89a-ade69098a1b4"
      },
      "source": [
        "plot1 = sns.catplot(x=\"RainTomorrow\", y=\"Humidity\", kind=\"violin\", split=True, data=df_train1);"
      ],
      "execution_count": 115,
      "outputs": [
        {
          "output_type": "display_data",
          "data": {
            "image/png": "[encoded data removed]",
            "text/plain": [
              "<Figure size 360x360 with 1 Axes>"
            ]
          },
          "metadata": {
            "tags": []
          }
        }
      ]
    },
    {
      "cell_type": "markdown",
      "metadata": {
        "id": "hpSLMSYBjyrh",
        "colab_type": "text"
      },
      "source": [
        "### RainTomorrow vs Rainfall (w.r.t. RainToday)\n",
        "\n",
        "#### This graph helps us to know about the prediction of rainfall for tomorrow based on the quantity of rainfall that happened today. As you can see, High rainfall for RainToday = Yes, the chances for RainTomorrow are more."
      ]
    },
    {
      "cell_type": "code",
      "metadata": {
        "id": "eHkmL65Zjyri",
        "colab_type": "code",
        "colab": {
          "base_uri": "https://localhost:8080/",
          "height": 0
        },
        "outputId": "a96d768f-6803-4b59-a461-286efeb7552e"
      },
      "source": [
        "plot2 = sns.catplot(x=\"RainTomorrow\", y=\"Rainfall\", hue=\"RainToday\", kind=\"bar\", data=df_train1);"
      ],
      "execution_count": 116,
      "outputs": [
        {
          "output_type": "display_data",
          "data": {
            "image/png": "[encoded data removed]",
            "text/plain": [
              "<Figure size 422.909x360 with 1 Axes>"
            ]
          },
          "metadata": {
            "tags": []
          }
        }
      ]
    },
    {
      "cell_type": "markdown",
      "metadata": {
        "id": "1uZxRs-Rjyrm",
        "colab_type": "text"
      },
      "source": [
        "### Temp vs MaxTemp\n",
        "#### This graph justifies the correlaton value of Temp and MaxTemp. Such high correlation between 2 independant variables can often cause multicollinearity in regression problems."
      ]
    },
    {
      "cell_type": "code",
      "metadata": {
        "id": "daYWXLcUjyrn",
        "colab_type": "code",
        "colab": {
          "base_uri": "https://localhost:8080/",
          "height": 0
        },
        "outputId": "06211d75-5c9c-4eab-d17d-7e6d8e6e1159"
      },
      "source": [
        "plot3 = sns.relplot(x=\"Temp\", y=\"MaxTemp\", kind=\"line\", data=df_train1)"
      ],
      "execution_count": 117,
      "outputs": [
        {
          "output_type": "display_data",
          "data": {
            "image/png": "[encoded data removed]",
            "text/plain": [
              "<Figure size 360x360 with 1 Axes>"
            ]
          },
          "metadata": {
            "tags": []
          }
        }
      ]
    },
    {
      "cell_type": "markdown",
      "metadata": {
        "id": "3_yIEwytjyrq",
        "colab_type": "text"
      },
      "source": [
        "### Temp vs Humidity\n",
        "#### As the humidity increases the temperature decreases. Both the conditions are suitable for condesation and hence are good for rainfall to happen."
      ]
    },
    {
      "cell_type": "code",
      "metadata": {
        "id": "pE_1CNvkjyrs",
        "colab_type": "code",
        "colab": {
          "base_uri": "https://localhost:8080/",
          "height": 365
        },
        "outputId": "472fb7a5-1d01-42cc-f61f-9eb880d21197"
      },
      "source": [
        "plot4 = sns.relplot(x=\"Temp\", y=\"Humidity\", kind=\"line\", data=df_train1)"
      ],
      "execution_count": 118,
      "outputs": [
        {
          "output_type": "display_data",
          "data": {
            "image/png": "[encoded data removed]",
            "text/plain": [
              "<Figure size 360x360 with 1 Axes>"
            ]
          },
          "metadata": {
            "tags": []
          }
        }
      ]
    },
    {
      "cell_type": "markdown",
      "metadata": {
        "id": "5_rXWhY-jyrv",
        "colab_type": "text"
      },
      "source": [
        "### Humidity vs Rainfall\n",
        "#### We know humidity can cause rainfall. But the thing to observe here is that they are linearly related. As the humidity goes on increasing the amount of rainfall will also be more."
      ]
    },
    {
      "cell_type": "code",
      "metadata": {
        "id": "L4t3H-aujyrw",
        "colab_type": "code",
        "colab": {
          "base_uri": "https://localhost:8080/",
          "height": 365
        },
        "outputId": "65b94179-cd86-442d-b610-1f1bb0988048"
      },
      "source": [
        "plot5 = sns.relplot(x=\"Humidity\", y=\"Rainfall\", kind=\"line\", data=df_train1);"
      ],
      "execution_count": 119,
      "outputs": [
        {
          "output_type": "display_data",
          "data": {
            "image/png": "[encoded data removed]",
            "text/plain": [
              "<Figure size 360x360 with 1 Axes>"
            ]
          },
          "metadata": {
            "tags": []
          }
        }
      ]
    },
    {
      "cell_type": "markdown",
      "metadata": {
        "id": "TJE7qW_rjyrz",
        "colab_type": "text"
      },
      "source": [
        "### Rainfall vs WindDir\n",
        "#### Very interesting point here is that winds blowing from south or west direction have more count for rainfall i.e. they bring more rain as compared to winds from any other direction."
      ]
    },
    {
      "cell_type": "code",
      "metadata": {
        "id": "b7xgROtJjyr0",
        "colab_type": "code",
        "colab": {
          "base_uri": "https://localhost:8080/",
          "height": 365
        },
        "outputId": "e2d65796-33f4-450e-e530-ab6d7bf75959"
      },
      "source": [
        "plot6 = sns.catplot(x=\"Rainfall\", y=\"WindDir\", kind=\"bar\", data=df_train1);"
      ],
      "execution_count": 120,
      "outputs": [
        {
          "output_type": "display_data",
          "data": {
            "image/png": "[encoded data removed]",
            "text/plain": [
              "<Figure size 360x360 with 1 Axes>"
            ]
          },
          "metadata": {
            "tags": []
          }
        }
      ]
    },
    {
      "cell_type": "markdown",
      "metadata": {
        "id": "3Z57DTBfjyr4",
        "colab_type": "text"
      },
      "source": [
        "### Converting the categorical variables to dummies and save the dataset."
      ]
    },
    {
      "cell_type": "code",
      "metadata": {
        "id": "beOat4J1jyr5",
        "colab_type": "code",
        "colab": {}
      },
      "source": [
        "df_train2 = pd.get_dummies(df_train1)"
      ],
      "execution_count": 0,
      "outputs": []
    },
    {
      "cell_type": "markdown",
      "metadata": {
        "id": "YjmXI6Sejyr8",
        "colab_type": "text"
      },
      "source": [
        "### Seperating the target variable from training dataset and deleting one of the dummies of binary level categorical variables."
      ]
    },
    {
      "cell_type": "code",
      "metadata": {
        "id": "eIqm_Udkjyr9",
        "colab_type": "code",
        "colab": {}
      },
      "source": [
        "df_target2 = pd.DataFrame(df_train2.RainTomorrow_Yes)\n",
        "\n",
        "#Saving dummy of RainTomorrow_No, might be helpful for kmeans clustering classification\n",
        "actual_kmeans = pd.DataFrame(df_train2.RainTomorrow_No)\n",
        "\n",
        "df_train2.drop(['RainTomorrow_Yes'] , axis = 1, inplace = True)\n",
        "df_train2.drop(['RainTomorrow_No'] , axis = 1, inplace = True)\n",
        "df_train2.drop(['RainToday_No'] , axis = 1, inplace = True)"
      ],
      "execution_count": 0,
      "outputs": []
    },
    {
      "cell_type": "markdown",
      "metadata": {
        "id": "op8Y0mPHjysA",
        "colab_type": "text"
      },
      "source": [
        "### Classify training dataset into further training and testing (validation) dataset. (75-25 split)"
      ]
    },
    {
      "cell_type": "code",
      "metadata": {
        "id": "SV8Q32O8jysB",
        "colab_type": "code",
        "colab": {}
      },
      "source": [
        "x_train,x_test,y_train,y_test = train_test_split(df_train2,df_target2,test_size=0.25, random_state=7)"
      ],
      "execution_count": 0,
      "outputs": []
    },
    {
      "cell_type": "markdown",
      "metadata": {
        "id": "yygEV9vCjysE",
        "colab_type": "text"
      },
      "source": [
        "# Decision Tree"
      ]
    },
    {
      "cell_type": "markdown",
      "metadata": {
        "id": "kLoWP0mmjysE",
        "colab_type": "text"
      },
      "source": [
        "#### Deploying model over training dataset, predicting over test dataset and calculating the accuracy score."
      ]
    },
    {
      "cell_type": "code",
      "metadata": {
        "id": "AmqJtq29jysF",
        "colab_type": "code",
        "colab": {
          "base_uri": "https://localhost:8080/",
          "height": 34
        },
        "outputId": "0be98388-4cb8-4ae1-8c3e-4bc99df1e90a"
      },
      "source": [
        "trial_model = tree.DecisionTreeClassifier().fit(x_train, y_train)\n",
        "predicted_values = trial_model.predict(x_test)\n",
        "print(f\"Accuracy: {round(metrics.accuracy_score(y_test, predicted_values)*100)}%\")"
      ],
      "execution_count": 124,
      "outputs": [
        {
          "output_type": "stream",
          "text": [
            "Accuracy: 71.0%\n"
          ],
          "name": "stdout"
        }
      ]
    },
    {
      "cell_type": "markdown",
      "metadata": {
        "id": "ZGNfZKDujysJ",
        "colab_type": "text"
      },
      "source": [
        "#### Checking the recall, precision and f1 score for the classification"
      ]
    },
    {
      "cell_type": "code",
      "metadata": {
        "id": "tCL4Eh1tjysL",
        "colab_type": "code",
        "colab": {
          "base_uri": "https://localhost:8080/",
          "height": 170
        },
        "outputId": "9fa8c4c5-e616-480e-f370-4903f140e1a3"
      },
      "source": [
        "print(classification_report(y_test, predicted_values))"
      ],
      "execution_count": 125,
      "outputs": [
        {
          "output_type": "stream",
          "text": [
            "              precision    recall  f1-score   support\n",
            "\n",
            "           0       0.71      0.71      0.71      6561\n",
            "           1       0.71      0.71      0.71      6434\n",
            "\n",
            "    accuracy                           0.71     12995\n",
            "   macro avg       0.71      0.71      0.71     12995\n",
            "weighted avg       0.71      0.71      0.71     12995\n",
            "\n"
          ],
          "name": "stdout"
        }
      ]
    },
    {
      "cell_type": "markdown",
      "metadata": {
        "id": "pe_jh5gFjysR",
        "colab_type": "text"
      },
      "source": [
        "## Finding the best hyperparameters\n",
        "\n",
        "#### Here we use the grid search to try multiple combinations of some parameters on our model to get the best accuracy and recall.\n",
        "#### Recall: In this particular case, type 2 error is more dangerous than type 1 error. If rain tomorrow = yes and we predict it a a no, then that error can be more harmful than error 1. Hence, we focus on 'Recall' evaluation parameter bcause recall deals with false negatives.\n",
        "\n",
        "#### min_samples_split: This parameter is to contrained model for node splitting if certain number of minimmum records are present in that node. The best value we got here is '2'. Unfortunately, this arises the question of overfitting of model on training data. Ideally, min_sample_split should lie between 1 to 40. Hence, we choose 10,20 to choose from to which he grid search returns 10 as the best value for our model.\n",
        "\n",
        "#### max_depth: This parameter deals with the levels in decison tree. The best value return for the tree model by grid search was 5. Unfortunately, it might create constrain on tree model and cause the model to be underfitted. So, we increase max_depth to 10, if tree still considers 5 as the best value then it can still create tree with 5 levels.\n",
        "\n",
        "#### max_leaf_nodes: This parameter deals with maximum number of leaf nodes that a model can generate. Best value returned was 80 leaf nodes increasing the accuracy to 78%. Unfortunately, again the question of overfitting arises because of so many leaf nodes. With new values model returns 30 as the best value for our model.\n",
        "\n",
        "#### min_samples_leaf: Minimum number of records to be present in leaf node. The more the records in leaf nodes, reduced the chances of overfitting. A very high number can also cause underfitting.\n",
        "\n",
        "#### Criteria: The parameter based on which you evaluate the importance of a node. The difference between parent node and child nodes combined is calculated. The higher the better. It can be calulated using either GINI index or entropy. Here the grid returns GINI index as the evaluation parameter as it helps in finding the best combinatons f child and parent nodes while genrating the decision tree. "
      ]
    },
    {
      "cell_type": "markdown",
      "metadata": {
        "id": "XN-NoEwajysU",
        "colab_type": "text"
      },
      "source": [
        "#### Using grid search to find the optimum value of hyper parameters in order to fine tune the model."
      ]
    },
    {
      "cell_type": "code",
      "metadata": {
        "id": "A84792hhjysV",
        "colab_type": "code",
        "colab": {}
      },
      "source": [
        "#Model Hyperparameter Fine Tuning\n",
        "            #param_grid = {'criterion': ['gini', 'entropy'],\n",
        "            #              'min_samples_split': [10,20],\n",
        "            #              'max_depth': [10,15],\n",
        "            #              'max_leaf_nodes': [25,30],\n",
        "            #              'min_samples_leaf' : [9,10,11]}\n",
        "            #grid = GridSearchCV(model, param_grid, cv=10, scoring='accuracy')\n",
        "            #grid.fit(x_train, y_train)\n",
        "\n",
        "#Output Best Model Hyperparameters\n",
        "            #print(grid.best_score_)\n",
        "\n",
        "            #for hps, values in grid.best_params_.items():\n",
        "            #  print(f\"{hps}: {values}\")"
      ],
      "execution_count": 0,
      "outputs": []
    },
    {
      "cell_type": "markdown",
      "metadata": {
        "id": "tGl8P8NUjysX",
        "colab_type": "text"
      },
      "source": [
        "#### Using the best parameters, applying the the model again to the training dataset and checking for the accuracy."
      ]
    },
    {
      "cell_type": "code",
      "metadata": {
        "id": "kxt5GDncjysa",
        "colab_type": "code",
        "colab": {
          "base_uri": "https://localhost:8080/",
          "height": 34
        },
        "outputId": "08f8fba5-5a6c-4bf2-bec3-d7e66ae6405d"
      },
      "source": [
        "model = tree.DecisionTreeClassifier(min_samples_split = 10, max_depth = 10, min_samples_leaf = 9, max_leaf_nodes = 30, random_state=73).fit(x_train, y_train)\n",
        "predictions=model.predict(x_test)\n",
        "print(f\"Accuracy: {round(metrics.accuracy_score(y_test, predictions)*100)}%\")"
      ],
      "execution_count": 127,
      "outputs": [
        {
          "output_type": "stream",
          "text": [
            "Accuracy: 76.0%\n"
          ],
          "name": "stdout"
        }
      ]
    },
    {
      "cell_type": "markdown",
      "metadata": {
        "id": "o6Rz2qpejyse",
        "colab_type": "text"
      },
      "source": [
        "#### Create a confusion matrix and plot it.\n",
        "\n",
        "#### Here we observe that False negative is less than false positives. It means our recall value will be better than precison value. Also true positives and true negatives values are very high, so the accuracy of model will be high."
      ]
    },
    {
      "cell_type": "code",
      "metadata": {
        "id": "Rk_7NEnGjysf",
        "colab_type": "code",
        "colab": {
          "base_uri": "https://localhost:8080/",
          "height": 268
        },
        "outputId": "0b3cbc55-300f-4e3c-a315-4da92270e002"
      },
      "source": [
        "cfm = confusion_matrix(y_test, predictions)\n",
        "\n",
        "df_cfm = pd.DataFrame(data=cfm, columns=['Actual +ve', 'Actual -ve'], \n",
        "                                 index=['Predicted +ve', 'Predict -ve'])\n",
        "plot_cfm = sns.heatmap(df_cfm, annot=True, fmt='d', cmap='BrBG')"
      ],
      "execution_count": 128,
      "outputs": [
        {
          "output_type": "display_data",
          "data": {
            "image/png": "[encoded data removed]",
            "text/plain": [
              "<Figure size 432x288 with 2 Axes>"
            ]
          },
          "metadata": {
            "tags": []
          }
        }
      ]
    },
    {
      "cell_type": "markdown",
      "metadata": {
        "id": "gvIlt6tfjysj",
        "colab_type": "text"
      },
      "source": [
        "#### Generate a classification report for predicted values, to hellp evaluate model based on Precision, Recall, F-1 score."
      ]
    },
    {
      "cell_type": "code",
      "metadata": {
        "id": "7iY_WYdejysk",
        "colab_type": "code",
        "colab": {
          "base_uri": "https://localhost:8080/",
          "height": 170
        },
        "outputId": "d157294e-240b-4c5c-9908-8740975a065b"
      },
      "source": [
        "print(classification_report(y_test, predictions))"
      ],
      "execution_count": 129,
      "outputs": [
        {
          "output_type": "stream",
          "text": [
            "              precision    recall  f1-score   support\n",
            "\n",
            "           0       0.77      0.76      0.76      6561\n",
            "           1       0.76      0.77      0.76      6434\n",
            "\n",
            "    accuracy                           0.76     12995\n",
            "   macro avg       0.76      0.76      0.76     12995\n",
            "weighted avg       0.76      0.76      0.76     12995\n",
            "\n"
          ],
          "name": "stdout"
        }
      ]
    },
    {
      "cell_type": "markdown",
      "metadata": {
        "id": "sl8NWVmbjyso",
        "colab_type": "text"
      },
      "source": [
        "### ROC Curve"
      ]
    },
    {
      "cell_type": "code",
      "metadata": {
        "id": "Pnc9Yyi7jysp",
        "colab_type": "code",
        "colab": {
          "base_uri": "https://localhost:8080/",
          "height": 448
        },
        "outputId": "fd3a4d55-1111-462d-d04b-911dc52bd6fe"
      },
      "source": [
        "plt.figure(figsize=(12,7))\n",
        "base_probs = [0 for _ in range(len(y_test))]\n",
        " \n",
        "best_probs = model.predict_proba(x_test)\n",
        "best_probs = best_probs[:, 1]\n",
        "\n",
        "base_fpr, base_tpr, _ = roc_curve(y_test, base_probs)\n",
        "best_fpr, best_tpr, _ = roc_curve(y_test, best_probs)\n",
        "\n",
        "plt.plot(base_fpr, base_tpr, linestyle='dashdot', label='Base Decision Tree Model',color='Green')\n",
        "plt.plot(best_fpr, best_tpr, marker='x', label='Best Decision Tree Model',color='Red',markeredgecolor='Blue',markersize=5)\n",
        "\n",
        "plt.xlabel('False Positive Rate')\n",
        "plt.ylabel('True Positive Rate')\n",
        "\n",
        "plt.legend()\n",
        "plt.show()"
      ],
      "execution_count": 130,
      "outputs": [
        {
          "output_type": "display_data",
          "data": {
            "image/png": "[encoded data removed]",
            "text/plain": [
              "<Figure size 864x504 with 1 Axes>"
            ]
          },
          "metadata": {
            "tags": []
          }
        }
      ]
    },
    {
      "cell_type": "markdown",
      "metadata": {
        "id": "HX3ZUfQPjysu",
        "colab_type": "text"
      },
      "source": [
        "#### AUC score\n",
        "\n",
        "#### Comparing the auc score of base model and best model. A random model can predict 50% of times correctly while our model at its best can predict correctly 84% of the times."
      ]
    },
    {
      "cell_type": "code",
      "metadata": {
        "id": "KL6cHbwNjysv",
        "colab_type": "code",
        "colab": {
          "base_uri": "https://localhost:8080/",
          "height": 51
        },
        "outputId": "439a3be2-f57c-4652-a0f9-962945832d22"
      },
      "source": [
        "base_auc = roc_auc_score(y_test, base_probs)\n",
        "best_auc = roc_auc_score(y_test, best_probs)\n",
        "print(base_auc)\n",
        "print(best_auc)"
      ],
      "execution_count": 131,
      "outputs": [
        {
          "output_type": "stream",
          "text": [
            "0.5\n",
            "0.8396846585050071\n"
          ],
          "name": "stdout"
        }
      ]
    },
    {
      "cell_type": "markdown",
      "metadata": {
        "id": "gh78GO3Vjysy",
        "colab_type": "text"
      },
      "source": [
        "# K-Means"
      ]
    },
    {
      "cell_type": "markdown",
      "metadata": {
        "id": "1MtBizxDjysy",
        "colab_type": "text"
      },
      "source": [
        "### Standardizing the dataset. Note that this dataset is already cleaned for NA's and outliers. Adding to that the categorical variables have also been converted into thhe dummies."
      ]
    },
    {
      "cell_type": "markdown",
      "metadata": {
        "id": "o0VWIhaejysz",
        "colab_type": "text"
      },
      "source": [
        "### KMeans is a Prototype type of Clustering.\n",
        "#### Prototype clusters assign the centroid to each and every cluster and performs the iterative process to reposition the centroid based on minimum distance to the points. In case of categorical variables, medoid is calculated instead of centroid. Now, both the things are not possibile to perform in same cluster. So, we use the data with dummy variables.\n",
        "#### Standard Scaling: We use standard scaler to scale the data with various ranges using the z-score approach. It returns the numerical continuous data with standard normal distribution."
      ]
    },
    {
      "cell_type": "code",
      "metadata": {
        "id": "dbyPV1eAjys0",
        "colab_type": "code",
        "colab": {}
      },
      "source": [
        "df_train4 = df_train2\n",
        "df_train4 = pd.DataFrame(StandardScaler(copy=True, with_mean=True, with_std=True).fit_transform(df_train4), columns = df_train2.columns)\n",
        "df_train5 = df_train4"
      ],
      "execution_count": 0,
      "outputs": []
    },
    {
      "cell_type": "markdown",
      "metadata": {
        "id": "xgqFcnvLjys3",
        "colab_type": "text"
      },
      "source": [
        "#### Running a loop to find the ideal number of clusters for grouping the data. Calculating the SSE (Sum of squared errors) to plot elbow curve and look for the sharp direction changing point."
      ]
    },
    {
      "cell_type": "code",
      "metadata": {
        "id": "ymHCL5rajys4",
        "colab_type": "code",
        "colab": {
          "base_uri": "https://localhost:8080/",
          "height": 301
        },
        "outputId": "703b86e9-7f7d-4c59-e136-93265cf82702"
      },
      "source": [
        "wcss=[]\n",
        "\n",
        "for i in range(1,11):\n",
        "    kmeans = KMeans(n_clusters= i, n_init=10, max_iter=100, random_state=0)\n",
        "    kmeans.fit(df_train4)\n",
        "    wcss.append(kmeans.inertia_)    \n",
        "plt.plot(range(1,11), wcss)\n",
        "plt.title('The Elbow Method')\n",
        "plt.xlabel('no of clusters')\n",
        "plt.ylabel('wcss')\n",
        "plt.show()"
      ],
      "execution_count": 133,
      "outputs": [
        {
          "output_type": "display_data",
          "data": {
            "image/png": "[encoded data removed]",
            "text/plain": [
              "<Figure size 432x288 with 1 Axes>"
            ]
          },
          "metadata": {
            "tags": []
          }
        }
      ]
    },
    {
      "cell_type": "markdown",
      "metadata": {
        "id": "VCUuh_ywjys7",
        "colab_type": "text"
      },
      "source": [
        "#### The elbow curve returns clearly shows us that sharp elbow point occurs at K = 2. Hence, we will group the data into 2 clusters."
      ]
    },
    {
      "cell_type": "code",
      "metadata": {
        "id": "_v2Vkxb8jys8",
        "colab_type": "code",
        "colab": {}
      },
      "source": [
        "kmeans = KMeans(n_clusters = 2, n_init=25, max_iter=100, random_state=73)\n",
        "clusters = kmeans.fit_predict(df_train4)"
      ],
      "execution_count": 0,
      "outputs": []
    },
    {
      "cell_type": "code",
      "metadata": {
        "id": "gsK4YYhbjytB",
        "colab_type": "code",
        "colab": {
          "base_uri": "https://localhost:8080/",
          "height": 34
        },
        "outputId": "84e3859b-f539-4413-95af-e0ca6d597832"
      },
      "source": [
        "df_train4[\"km_pred\"] = clusters\n",
        "df_train4[\"km_pred\"].unique()"
      ],
      "execution_count": 135,
      "outputs": [
        {
          "output_type": "execute_result",
          "data": {
            "text/plain": [
              "array([0, 1])"
            ]
          },
          "metadata": {
            "tags": []
          },
          "execution_count": 135
        }
      ]
    },
    {
      "cell_type": "markdown",
      "metadata": {
        "id": "jcps2U3YjytD",
        "colab_type": "text"
      },
      "source": [
        "### How to repurpose unsupervised learning for classification?\n",
        "#### We can use the group name of clusters as the predicted classes of any classification model and compare it with actual values to measure evaluation parameters.\n",
        "\n",
        "### Trial and error method:\n",
        "#### When using cluster for classification purpose, we need to assign that either cluster 1 is RainTomorrow = Yes or RainTomorrow = No, same for Cluster 2 as well.\n",
        "#### We assign some value, check the confusion matrix, if (TP + TN) is greater than (FP + FN), then we know that we have assigned the correct values otherwise we'll have to swtich the values.\n",
        "#### Initially, assigning cluster 1 for RainTomorrow = Yes."
      ]
    },
    {
      "cell_type": "code",
      "metadata": {
        "id": "LOXTkPpLjytE",
        "colab_type": "code",
        "colab": {}
      },
      "source": [
        "df_train4['actual_kmeans'] = df_target2\n",
        "\n",
        "c1_no_rain  = df_train4[df_train4.km_pred == 1]\n",
        "c2_yes_rain = df_train4[df_train4.km_pred == 0]"
      ],
      "execution_count": 0,
      "outputs": []
    },
    {
      "cell_type": "markdown",
      "metadata": {
        "id": "YqlJzfhpjytG",
        "colab_type": "text"
      },
      "source": [
        "### How to judge the performance of clustering algorithms for classifications?\n",
        "#### In classification we measure the degree to predicted class labels correspond to the actual class labels. To measure this thing, we use measures like Entropy, purity, precision, recall etc.\n",
        "#### Based on that we'll calculate Entropy and Purity.\n",
        "#### 1] Entropy"
      ]
    },
    {
      "cell_type": "code",
      "metadata": {
        "id": "BBxqS9-CjytH",
        "colab_type": "code",
        "colab": {
          "base_uri": "https://localhost:8080/",
          "height": 34
        },
        "outputId": "42d817ce-3906-4087-a188-8e19e34b2822"
      },
      "source": [
        "p_c1_1 = len(c1_no_rain[c1_no_rain.actual_kmeans == 1])/len(c1_no_rain)\n",
        "p_c1_0 = len(c1_no_rain[c1_no_rain.actual_kmeans == 0])/len(c1_no_rain)\n",
        "\n",
        "p_c2_1 = len(c2_yes_rain[c2_yes_rain.actual_kmeans == 1])/len(c2_yes_rain)\n",
        "p_c2_0 = len(c2_yes_rain[c2_yes_rain.actual_kmeans == 0])/len(c2_yes_rain)\n",
        "\n",
        "ent_clus_1 = -((p_c1_1 * math.log2(p_c1_1)) + (p_c1_0 * math.log2(p_c1_0)))\n",
        "ent_clus_2 = -((p_c2_1 * math.log2(p_c2_1)) + (p_c2_0 * math.log2(p_c2_0)))               \n",
        "   \n",
        "\n",
        "total_entropy = ((len(c1_no_rain) * ent_clus_1)+(len(c2_yes_rain) * ent_clus_2))/ len(df_train4) \n",
        "total_entropy"
      ],
      "execution_count": 137,
      "outputs": [
        {
          "output_type": "execute_result",
          "data": {
            "text/plain": [
              "0.9793167535329377"
            ]
          },
          "metadata": {
            "tags": []
          },
          "execution_count": 137
        }
      ]
    },
    {
      "cell_type": "markdown",
      "metadata": {
        "id": "yFTuawtwjytJ",
        "colab_type": "text"
      },
      "source": [
        "#### 2] Purity"
      ]
    },
    {
      "cell_type": "code",
      "metadata": {
        "id": "JSPMJNjIjytK",
        "colab_type": "code",
        "colab": {
          "base_uri": "https://localhost:8080/",
          "height": 51
        },
        "outputId": "c8ac8de1-4591-420b-b3e9-20c0de8fdeca"
      },
      "source": [
        "pur_c1 = max(p_c1_1, p_c1_0)\n",
        "print(\"The purity for cluster 1 is: \", pur_c1)\n",
        "\n",
        "pur_c2 = max(p_c2_1, p_c2_0)\n",
        "print(\"The purity for cluster 1 is: \", pur_c2)"
      ],
      "execution_count": 138,
      "outputs": [
        {
          "output_type": "stream",
          "text": [
            "The purity for cluster 1 is:  0.5638800729286245\n",
            "The purity for cluster 1 is:  0.6056350626118068\n"
          ],
          "name": "stdout"
        }
      ]
    },
    {
      "cell_type": "code",
      "metadata": {
        "id": "wgmCCxsBjytM",
        "colab_type": "code",
        "colab": {
          "base_uri": "https://localhost:8080/",
          "height": 34
        },
        "outputId": "155528e3-8737-4cab-b3ba-012cc94d0a27"
      },
      "source": [
        "print(f\"Accuracy: {round(metrics.accuracy_score(actual_kmeans, df_train4.km_pred)*100)}%\")"
      ],
      "execution_count": 139,
      "outputs": [
        {
          "output_type": "stream",
          "text": [
            "Accuracy: 42.0%\n"
          ],
          "name": "stdout"
        }
      ]
    },
    {
      "cell_type": "markdown",
      "metadata": {
        "id": "MqW70iB9jytP",
        "colab_type": "text"
      },
      "source": [
        "#### Create a confusion matrix and plot it.\n",
        "\n",
        "#### Here we observe that False positive is less than false negatives. It means our precision value will be better than recall value. Here, RainTomorrow is predicted as 1, hence, we will think of reducing type 1 error. Also true positives and true negatives values are very high, so the accuracy of model will be high."
      ]
    },
    {
      "cell_type": "code",
      "metadata": {
        "id": "cgWskZkujytS",
        "colab_type": "code",
        "colab": {
          "base_uri": "https://localhost:8080/",
          "height": 268
        },
        "outputId": "42a3e488-8bbc-4807-ff80-cc6a8d28ed4e"
      },
      "source": [
        "cfm = confusion_matrix(actual_kmeans, df_train4.km_pred)\n",
        "\n",
        "df_cfm = pd.DataFrame(data=cfm, columns=['Actual +ve', 'Actual -ve'], \n",
        "                                 index=['Predicted +ve', 'Predict -ve'])\n",
        "plot_cfm = sns.heatmap(df_cfm, annot=True, fmt='d', cmap='BrBG')"
      ],
      "execution_count": 140,
      "outputs": [
        {
          "output_type": "display_data",
          "data": {
            "image/png": "[encoded data removed]",
            "text/plain": [
              "<Figure size 432x288 with 2 Axes>"
            ]
          },
          "metadata": {
            "tags": []
          }
        }
      ]
    },
    {
      "cell_type": "code",
      "metadata": {
        "id": "Bg6HfG7JjytU",
        "colab_type": "code",
        "colab": {
          "base_uri": "https://localhost:8080/",
          "height": 170
        },
        "outputId": "6e0a148f-699b-4c4b-d26f-717552ca90cc"
      },
      "source": [
        "print(classification_report(actual_kmeans, df_train4.km_pred))"
      ],
      "execution_count": 82,
      "outputs": [
        {
          "output_type": "stream",
          "text": [
            "              precision    recall  f1-score   support\n",
            "\n",
            "           0       0.39      0.35      0.37     25519\n",
            "           1       0.44      0.49      0.46     26459\n",
            "\n",
            "    accuracy                           0.42     51978\n",
            "   macro avg       0.42      0.42      0.41     51978\n",
            "weighted avg       0.42      0.42      0.42     51978\n",
            "\n"
          ],
          "name": "stdout"
        }
      ]
    },
    {
      "cell_type": "markdown",
      "metadata": {
        "id": "mBHgbgqOjytW",
        "colab_type": "text"
      },
      "source": [
        "# HAC"
      ]
    },
    {
      "cell_type": "markdown",
      "metadata": {
        "id": "B-ZnUV43jytX",
        "colab_type": "text"
      },
      "source": [
        "##### Plotting the complete dendrogram"
      ]
    },
    {
      "cell_type": "code",
      "metadata": {
        "id": "ipU62SZcjytX",
        "colab_type": "code",
        "colab": {}
      },
      "source": [
        "#from scipy.cluster.hierarchy import linkage,dendrogram\n",
        "#merg = linkage(df_train5, method = \"ward\")\n",
        "#dendrogram(merg, leaf_rotation = 90)\n",
        "#plt.xlabel(\"data points\")\n",
        "#plt.ylabel(\"euclidean distance\")\n",
        "#plt.show()"
      ],
      "execution_count": 0,
      "outputs": []
    },
    {
      "cell_type": "markdown",
      "metadata": {
        "id": "BNP-NW0VjytZ",
        "colab_type": "text"
      },
      "source": [
        "#### Plotting the dendrogram for 2 clusters"
      ]
    },
    {
      "cell_type": "code",
      "metadata": {
        "id": "5_S56iIHjyta",
        "colab_type": "code",
        "colab": {}
      },
      "source": [
        "#merg = linkage(df_train5, method = \"ward\")\n",
        "#dendrogram(merg, leaf_rotation = 90, p = 2, truncate_mode = \"lastp\")\n",
        "#plt.xlabel(\"data points\")\n",
        "#plt.ylabel(\"euclidean distance\")\n",
        "#plt.show()"
      ],
      "execution_count": 0,
      "outputs": []
    },
    {
      "cell_type": "markdown",
      "metadata": {
        "id": "r2hHMSBEjyte",
        "colab_type": "text"
      },
      "source": [
        "#### HAC Model: Hyperparameters\n",
        "####  1] Affinity: Here we have to specify that which distance we should consider between the data points, Euclidean distance or manhattan distance. We selected Euclidean for our model as it returned a better f1-score than mahattan distance.\n",
        "#### 2] Linkage: We use ward linkage as it is robust and insensitive to the outliers.\n",
        "#### 3] n_clusters: No of clusters we specify as 2, since we alreay know from elboe curve that 2 is the best number for clusters."
      ]
    },
    {
      "cell_type": "code",
      "metadata": {
        "id": "WSD9pboGjytg",
        "colab_type": "code",
        "colab": {}
      },
      "source": [
        "from sklearn.cluster import AgglomerativeClustering\n",
        "hc = AgglomerativeClustering(n_clusters = 2, affinity = \"euclidean\", linkage = \"ward\")\n",
        "cluster = hc.fit_predict(df_train5)\n",
        "df_train5[\"hac_pred\"] = cluster"
      ],
      "execution_count": 0,
      "outputs": []
    },
    {
      "cell_type": "code",
      "metadata": {
        "id": "zhjvioVOjyti",
        "colab_type": "code",
        "colab": {}
      },
      "source": [
        "df_train5['actual_kmeans'] = actual_kmeans\n",
        "\n",
        "c1_no_rain  = df_train5[df_train5.hac_pred == 1]\n",
        "c2_yes_rain = df_train5[df_train5.hac_pred == 0]"
      ],
      "execution_count": 0,
      "outputs": []
    },
    {
      "cell_type": "code",
      "metadata": {
        "id": "YSMV8Fm5jytm",
        "colab_type": "code",
        "colab": {
          "base_uri": "https://localhost:8080/",
          "height": 34
        },
        "outputId": "b0b33664-4565-47d5-985d-c7fa11e4787b"
      },
      "source": [
        "p_c1_1 = len(c1_no_rain[c1_no_rain.actual_kmeans == 1])/len(c1_no_rain)\n",
        "p_c1_0 = len(c1_no_rain[c1_no_rain.actual_kmeans == 0])/len(c1_no_rain)\n",
        "\n",
        "p_c2_1 = len(c2_yes_rain[c2_yes_rain.actual_kmeans == 1])/len(c2_yes_rain)\n",
        "p_c2_0 = len(c2_yes_rain[c2_yes_rain.actual_kmeans == 0])/len(c2_yes_rain)\n",
        "\n",
        "ent_clus_1 = -((p_c1_1 * math.log2(p_c1_1)) + (p_c1_0 * math.log2(p_c1_0)))\n",
        "ent_clus_2 = -((p_c2_1 * math.log2(p_c2_1)) + (p_c2_0 * math.log2(p_c2_0)))               \n",
        "   \n",
        "\n",
        "total_entropy = ((len(c1_no_rain) * ent_clus_1)+(len(c2_yes_rain) * ent_clus_2))/ len(df_train5) \n",
        "total_entropy"
      ],
      "execution_count": 52,
      "outputs": [
        {
          "output_type": "execute_result",
          "data": {
            "text/plain": [
              "0.9972461103699662"
            ]
          },
          "metadata": {
            "tags": []
          },
          "execution_count": 52
        }
      ]
    },
    {
      "cell_type": "code",
      "metadata": {
        "id": "UOUHp6tfjytq",
        "colab_type": "code",
        "colab": {
          "base_uri": "https://localhost:8080/",
          "height": 51
        },
        "outputId": "069cbbda-79e5-4e07-c955-97d1e51cb779"
      },
      "source": [
        "pur_c1 = max(p_c1_1, p_c1_0)\n",
        "print(\"The purity for cluster 1 is: \", pur_c1)\n",
        "\n",
        "pur_c2 = max(p_c2_1, p_c2_0)\n",
        "print(\"The purity for cluster 1 is: \", pur_c2)"
      ],
      "execution_count": 53,
      "outputs": [
        {
          "output_type": "stream",
          "text": [
            "The purity for cluster 1 is:  0.5391683354929909\n",
            "The purity for cluster 1 is:  0.5198974010787974\n"
          ],
          "name": "stdout"
        }
      ]
    },
    {
      "cell_type": "code",
      "metadata": {
        "id": "E7-T1H9Zjyts",
        "colab_type": "code",
        "colab": {
          "base_uri": "https://localhost:8080/",
          "height": 34
        },
        "outputId": "dfe5287b-702d-4067-c3a1-5e799c3f3b8a"
      },
      "source": [
        "print(f\"Accuracy: {round(metrics.accuracy_score(actual_kmeans, df_train5.hac_pred)*100)}%\")"
      ],
      "execution_count": 54,
      "outputs": [
        {
          "output_type": "stream",
          "text": [
            "Accuracy: 53.0%\n"
          ],
          "name": "stdout"
        }
      ]
    },
    {
      "cell_type": "code",
      "metadata": {
        "id": "DBg8WSMbjytv",
        "colab_type": "code",
        "colab": {
          "base_uri": "https://localhost:8080/",
          "height": 268
        },
        "outputId": "f67fba9a-0469-4167-91c2-3fec9d33e52e"
      },
      "source": [
        "cfm = confusion_matrix(actual_kmeans, df_train5.hac_pred)\n",
        "\n",
        "df_cfm = pd.DataFrame(data=cfm, columns=['Actual +ve', 'Actual -ve'], \n",
        "                                 index=['Predicted +ve', 'Predict -ve'])\n",
        "plot_cfm = sns.heatmap(df_cfm, annot=True, fmt='d', cmap='BrBG')"
      ],
      "execution_count": 55,
      "outputs": [
        {
          "output_type": "display_data",
          "data": {
            "image/png": "[encoded data removed]",
            "text/plain": [
              "<Figure size 432x288 with 2 Axes>"
            ]
          },
          "metadata": {
            "tags": []
          }
        }
      ]
    },
    {
      "cell_type": "code",
      "metadata": {
        "id": "19--XeB5jyty",
        "colab_type": "code",
        "colab": {
          "base_uri": "https://localhost:8080/",
          "height": 170
        },
        "outputId": "4fcf3ed4-eab5-4a31-a531-4e11d5969f23"
      },
      "source": [
        "print(classification_report(actual_kmeans, df_train5.hac_pred))"
      ],
      "execution_count": 56,
      "outputs": [
        {
          "output_type": "stream",
          "text": [
            "              precision    recall  f1-score   support\n",
            "\n",
            "           0       0.52      0.54      0.53     25519\n",
            "           1       0.54      0.52      0.53     26459\n",
            "\n",
            "    accuracy                           0.53     51978\n",
            "   macro avg       0.53      0.53      0.53     51978\n",
            "weighted avg       0.53      0.53      0.53     51978\n",
            "\n"
          ],
          "name": "stdout"
        }
      ]
    },
    {
      "cell_type": "markdown",
      "metadata": {
        "id": "Pr9F_Hp8jyt2",
        "colab_type": "text"
      },
      "source": [
        "# Prediction of the Test Data"
      ]
    },
    {
      "cell_type": "markdown",
      "metadata": {
        "id": "dxpbQE3_jyt3",
        "colab_type": "text"
      },
      "source": [
        "#### Preparing test data for decision tree model "
      ]
    },
    {
      "cell_type": "code",
      "metadata": {
        "id": "4qgbYWlHjyt4",
        "colab_type": "code",
        "colab": {}
      },
      "source": [
        "df_test2 = pd.get_dummies(df_test1)\n",
        "df_test2.drop(['RainToday_No'] , axis = 1, inplace = True)\n",
        "df_test2.drop(['ID'] , axis = 1, inplace = True)"
      ],
      "execution_count": 0,
      "outputs": []
    },
    {
      "cell_type": "markdown",
      "metadata": {
        "id": "Fu3ZPNifjyt6",
        "colab_type": "text"
      },
      "source": [
        "#### Preparing test data for clustering model "
      ]
    },
    {
      "cell_type": "code",
      "metadata": {
        "id": "oblDF9_Rjyt7",
        "colab_type": "code",
        "colab": {}
      },
      "source": [
        "df_test4 = df_test2\n",
        "df_test4 = pd.DataFrame(StandardScaler(copy=True, with_mean=True, with_std=True).fit_transform(df_test4), columns = df_test2.columns)\n",
        "df_test5 = df_test4"
      ],
      "execution_count": 0,
      "outputs": []
    },
    {
      "cell_type": "markdown",
      "metadata": {
        "id": "rjwfB7v4jyt9",
        "colab_type": "text"
      },
      "source": [
        "#### Decision Tree deploy"
      ]
    },
    {
      "cell_type": "code",
      "metadata": {
        "id": "13wxAaE7jyt-",
        "colab_type": "code",
        "colab": {
          "base_uri": "https://localhost:8080/",
          "height": 34
        },
        "outputId": "f423a599-e16f-49c1-b1d0-e1b645521386"
      },
      "source": [
        "DT_PRED = model.predict(df_test2)\n",
        "DT_PRED"
      ],
      "execution_count": 59,
      "outputs": [
        {
          "output_type": "execute_result",
          "data": {
            "text/plain": [
              "array([1, 0, 0, ..., 1, 0, 1], dtype=uint8)"
            ]
          },
          "metadata": {
            "tags": []
          },
          "execution_count": 59
        }
      ]
    },
    {
      "cell_type": "markdown",
      "metadata": {
        "id": "TRyfPoRojyuB",
        "colab_type": "text"
      },
      "source": [
        "#### K Means deploy"
      ]
    },
    {
      "cell_type": "code",
      "metadata": {
        "id": "Xqw1XJ7XjyuG",
        "colab_type": "code",
        "colab": {
          "base_uri": "https://localhost:8080/",
          "height": 34
        },
        "outputId": "1cef6ac4-3878-4684-9e52-3c4d42202b4f"
      },
      "source": [
        "KMEANS_PRED = kmeans.predict(df_test4)\n",
        "KMEANS_PRED"
      ],
      "execution_count": 60,
      "outputs": [
        {
          "output_type": "execute_result",
          "data": {
            "text/plain": [
              "array([1, 1, 1, ..., 1, 1, 1], dtype=int32)"
            ]
          },
          "metadata": {
            "tags": []
          },
          "execution_count": 60
        }
      ]
    },
    {
      "cell_type": "markdown",
      "metadata": {
        "id": "6gpS1NuUjyuJ",
        "colab_type": "text"
      },
      "source": [
        "#### HAC deploy"
      ]
    },
    {
      "cell_type": "code",
      "metadata": {
        "id": "XhdtNfsjjyuJ",
        "colab_type": "code",
        "colab": {
          "base_uri": "https://localhost:8080/",
          "height": 34
        },
        "outputId": "bc15e8be-4295-4d68-f836-3193949cc8d6"
      },
      "source": [
        "HAC_PRED = hc.fit_predict(df_test5)\n",
        "HAC_PRED"
      ],
      "execution_count": 61,
      "outputs": [
        {
          "output_type": "execute_result",
          "data": {
            "text/plain": [
              "array([0, 0, 0, ..., 0, 1, 1])"
            ]
          },
          "metadata": {
            "tags": []
          },
          "execution_count": 61
        }
      ]
    },
    {
      "cell_type": "code",
      "metadata": {
        "id": "sGxjzam-pWur",
        "colab_type": "code",
        "colab": {}
      },
      "source": [
        "HW2_Tejas_Excel = pd.DataFrame({'ID': df_test1.ID, 'DT_PRED': DT_PRED, 'KMEANS_PRED': KMEANS_PRED, 'HAC_PRED': HAC_PRED})"
      ],
      "execution_count": 0,
      "outputs": []
    },
    {
      "cell_type": "code",
      "metadata": {
        "id": "xqUZ26l8rO0H",
        "colab_type": "code",
        "colab": {}
      },
      "source": [
        "HW2_Tejas_Excel.to_csv(r'Downloads\\HW2_Tejas_Excel.csv', index = False)"
      ],
      "execution_count": 0,
      "outputs": []
    }
  ]
}